{
 "cells": [
  {
   "cell_type": "markdown",
   "metadata": {},
   "source": [
    "# 1.3. Segmentación e indexación de datos\n",
    "\n",
    "## Índices explícitos\n",
    "\n",
    "### Configuración y eliminación de índices\n",
    "\n",
    "Pandas permite designar columnas como un *índice*. Esto facilita un código más limpio al tomar subconjuntos (además de proporcionar una búsqueda más eficiente en algunas circunstancias)."
   ]
  },
  {
   "cell_type": "code",
   "execution_count": 1,
   "metadata": {},
   "outputs": [],
   "source": [
    "import pandas as pd"
   ]
  },
  {
   "cell_type": "code",
   "execution_count": 2,
   "metadata": {},
   "outputs": [
    {
     "data": {
      "text/html": [
       "<div>\n",
       "<style scoped>\n",
       "    .dataframe tbody tr th:only-of-type {\n",
       "        vertical-align: middle;\n",
       "    }\n",
       "\n",
       "    .dataframe tbody tr th {\n",
       "        vertical-align: top;\n",
       "    }\n",
       "\n",
       "    .dataframe thead th {\n",
       "        text-align: right;\n",
       "    }\n",
       "</style>\n",
       "<table border=\"1\" class=\"dataframe\">\n",
       "  <thead>\n",
       "    <tr style=\"text-align: right;\">\n",
       "      <th></th>\n",
       "      <th>date</th>\n",
       "      <th>city</th>\n",
       "      <th>country</th>\n",
       "      <th>avg_temp_c</th>\n",
       "    </tr>\n",
       "  </thead>\n",
       "  <tbody>\n",
       "    <tr>\n",
       "      <th>0</th>\n",
       "      <td>2000-01-01</td>\n",
       "      <td>Abidjan</td>\n",
       "      <td>Côte D'Ivoire</td>\n",
       "      <td>27.293</td>\n",
       "    </tr>\n",
       "    <tr>\n",
       "      <th>1</th>\n",
       "      <td>2000-02-01</td>\n",
       "      <td>Abidjan</td>\n",
       "      <td>Côte D'Ivoire</td>\n",
       "      <td>27.685</td>\n",
       "    </tr>\n",
       "    <tr>\n",
       "      <th>2</th>\n",
       "      <td>2000-03-01</td>\n",
       "      <td>Abidjan</td>\n",
       "      <td>Côte D'Ivoire</td>\n",
       "      <td>29.061</td>\n",
       "    </tr>\n",
       "    <tr>\n",
       "      <th>3</th>\n",
       "      <td>2000-04-01</td>\n",
       "      <td>Abidjan</td>\n",
       "      <td>Côte D'Ivoire</td>\n",
       "      <td>28.162</td>\n",
       "    </tr>\n",
       "    <tr>\n",
       "      <th>4</th>\n",
       "      <td>2000-05-01</td>\n",
       "      <td>Abidjan</td>\n",
       "      <td>Côte D'Ivoire</td>\n",
       "      <td>27.547</td>\n",
       "    </tr>\n",
       "  </tbody>\n",
       "</table>\n",
       "</div>"
      ],
      "text/plain": [
       "         date     city        country  avg_temp_c\n",
       "0  2000-01-01  Abidjan  Côte D'Ivoire      27.293\n",
       "1  2000-02-01  Abidjan  Côte D'Ivoire      27.685\n",
       "2  2000-03-01  Abidjan  Côte D'Ivoire      29.061\n",
       "3  2000-04-01  Abidjan  Côte D'Ivoire      28.162\n",
       "4  2000-05-01  Abidjan  Côte D'Ivoire      27.547"
      ]
     },
     "execution_count": 2,
     "metadata": {},
     "output_type": "execute_result"
    }
   ],
   "source": [
    "temperatures = pd.read_csv('../../../datasets/temperatures.csv')\n",
    "\n",
    "temperatures.head()"
   ]
  },
  {
   "cell_type": "code",
   "execution_count": 3,
   "metadata": {},
   "outputs": [
    {
     "data": {
      "text/plain": [
       "(16500, 4)"
      ]
     },
     "execution_count": 3,
     "metadata": {},
     "output_type": "execute_result"
    }
   ],
   "source": [
    "temperatures.shape"
   ]
  },
  {
   "cell_type": "code",
   "execution_count": 4,
   "metadata": {},
   "outputs": [
    {
     "name": "stdout",
     "output_type": "stream",
     "text": [
      "             date     city        country  avg_temp_c\n",
      "0      2000-01-01  Abidjan  Côte D'Ivoire      27.293\n",
      "1      2000-02-01  Abidjan  Côte D'Ivoire      27.685\n",
      "2      2000-03-01  Abidjan  Côte D'Ivoire      29.061\n",
      "3      2000-04-01  Abidjan  Côte D'Ivoire      28.162\n",
      "4      2000-05-01  Abidjan  Côte D'Ivoire      27.547\n",
      "...           ...      ...            ...         ...\n",
      "16495  2013-05-01     Xian          China      18.979\n",
      "16496  2013-06-01     Xian          China      23.522\n",
      "16497  2013-07-01     Xian          China      25.251\n",
      "16498  2013-08-01     Xian          China      24.528\n",
      "16499  2013-09-01     Xian          China         NaN\n",
      "\n",
      "[16500 rows x 4 columns]\n"
     ]
    }
   ],
   "source": [
    "print(temperatures)"
   ]
  },
  {
   "cell_type": "markdown",
   "metadata": {},
   "source": [
    "**Instrucciones**\n",
    "\n",
    "- Establece el índice de `temperatures` en `\"city\"`, asignándolo a `temperatures_ind`.\n",
    "- *Observa `temperatures_ind`. ¿En qué se diferencia de `temperatures`?*"
   ]
  },
  {
   "cell_type": "code",
   "execution_count": 5,
   "metadata": {},
   "outputs": [],
   "source": [
    "temperatures_ind = (\n",
    "    temperatures\n",
    "    .set_index(\"city\")\n",
    ")"
   ]
  },
  {
   "cell_type": "code",
   "execution_count": 6,
   "metadata": {},
   "outputs": [
    {
     "name": "stdout",
     "output_type": "stream",
     "text": [
      "               date        country  avg_temp_c\n",
      "city                                          \n",
      "Abidjan  2000-01-01  Côte D'Ivoire      27.293\n",
      "Abidjan  2000-02-01  Côte D'Ivoire      27.685\n",
      "Abidjan  2000-03-01  Côte D'Ivoire      29.061\n",
      "Abidjan  2000-04-01  Côte D'Ivoire      28.162\n",
      "Abidjan  2000-05-01  Côte D'Ivoire      27.547\n",
      "...             ...            ...         ...\n",
      "Xian     2013-05-01          China      18.979\n",
      "Xian     2013-06-01          China      23.522\n",
      "Xian     2013-07-01          China      25.251\n",
      "Xian     2013-08-01          China      24.528\n",
      "Xian     2013-09-01          China         NaN\n",
      "\n",
      "[16500 rows x 3 columns]\n"
     ]
    }
   ],
   "source": [
    "print(temperatures_ind)"
   ]
  },
  {
   "cell_type": "markdown",
   "metadata": {},
   "source": [
    "- Restablece el índice de `temperatures_ind`, conservando su contenido."
   ]
  },
  {
   "cell_type": "code",
   "execution_count": 7,
   "metadata": {},
   "outputs": [
    {
     "name": "stdout",
     "output_type": "stream",
     "text": [
      "          city        date        country  avg_temp_c\n",
      "0      Abidjan  2000-01-01  Côte D'Ivoire      27.293\n",
      "1      Abidjan  2000-02-01  Côte D'Ivoire      27.685\n",
      "2      Abidjan  2000-03-01  Côte D'Ivoire      29.061\n",
      "3      Abidjan  2000-04-01  Côte D'Ivoire      28.162\n",
      "4      Abidjan  2000-05-01  Côte D'Ivoire      27.547\n",
      "...        ...         ...            ...         ...\n",
      "16495     Xian  2013-05-01          China      18.979\n",
      "16496     Xian  2013-06-01          China      23.522\n",
      "16497     Xian  2013-07-01          China      25.251\n",
      "16498     Xian  2013-08-01          China      24.528\n",
      "16499     Xian  2013-09-01          China         NaN\n",
      "\n",
      "[16500 rows x 4 columns]\n"
     ]
    }
   ],
   "source": [
    "print(\n",
    "    temperatures_ind\n",
    "    .reset_index()\n",
    ")"
   ]
  },
  {
   "cell_type": "markdown",
   "metadata": {},
   "source": [
    "- Restablece el índice de `temperatures_ind`, eliminando su contenido."
   ]
  },
  {
   "cell_type": "code",
   "execution_count": 8,
   "metadata": {},
   "outputs": [
    {
     "name": "stdout",
     "output_type": "stream",
     "text": [
      "             date        country  avg_temp_c\n",
      "0      2000-01-01  Côte D'Ivoire      27.293\n",
      "1      2000-02-01  Côte D'Ivoire      27.685\n",
      "2      2000-03-01  Côte D'Ivoire      29.061\n",
      "3      2000-04-01  Côte D'Ivoire      28.162\n",
      "4      2000-05-01  Côte D'Ivoire      27.547\n",
      "...           ...            ...         ...\n",
      "16495  2013-05-01          China      18.979\n",
      "16496  2013-06-01          China      23.522\n",
      "16497  2013-07-01          China      25.251\n",
      "16498  2013-08-01          China      24.528\n",
      "16499  2013-09-01          China         NaN\n",
      "\n",
      "[16500 rows x 3 columns]\n"
     ]
    }
   ],
   "source": [
    "print(\n",
    "    temperatures_ind\n",
    "    .reset_index(drop=True)\n",
    ")"
   ]
  },
  {
   "cell_type": "markdown",
   "metadata": {},
   "source": [
    "## Subconjuntos con .loc[]\n",
    "\n",
    "La característica más potente de los índices es `.loc[]`: un método de subsetting que acepta valores de índice. Cuando le pasas un solo argumento, tomará un subconjunto de filas.\n",
    "\n",
    "El código para hacer subsetting con `.loc[]` puede ser más fácil de leer que el subsetting con corchetes `[]` estándar, lo que hace que tu código sea más fácil de mantener."
   ]
  },
  {
   "cell_type": "markdown",
   "metadata": {},
   "source": [
    "**Instrucciones**\n",
    "\n",
    "- Crea una lista llamada `cities` que contenga `\"Moscow\"` y `\"Saint Petersburg\"`.\n",
    "- Usa el subsetting con `[]` para filtrar `temperatures` por filas donde la columna `city` tome un valor dentro de la lista `cities`.\n"
   ]
  },
  {
   "cell_type": "code",
   "execution_count": 9,
   "metadata": {},
   "outputs": [
    {
     "name": "stdout",
     "output_type": "stream",
     "text": [
      "             date              city country  avg_temp_c\n",
      "10725  2000-01-01            Moscow  Russia      -7.313\n",
      "10726  2000-02-01            Moscow  Russia      -3.551\n",
      "10727  2000-03-01            Moscow  Russia      -1.661\n",
      "10728  2000-04-01            Moscow  Russia      10.096\n",
      "10729  2000-05-01            Moscow  Russia      10.357\n",
      "...           ...               ...     ...         ...\n",
      "13360  2013-05-01  Saint Petersburg  Russia      12.355\n",
      "13361  2013-06-01  Saint Petersburg  Russia      17.185\n",
      "13362  2013-07-01  Saint Petersburg  Russia      17.234\n",
      "13363  2013-08-01  Saint Petersburg  Russia      17.153\n",
      "13364  2013-09-01  Saint Petersburg  Russia         NaN\n",
      "\n",
      "[330 rows x 4 columns]\n"
     ]
    }
   ],
   "source": [
    "cities = [\"Moscow\", \"Saint Petersburg\"]\n",
    "\n",
    "print(\n",
    "    temperatures[temperatures[\"city\"]\n",
    "                 .isin(cities)]\n",
    "    )\n"
   ]
  },
  {
   "cell_type": "markdown",
   "metadata": {},
   "source": [
    "- Usa el subsetting con `.loc[]` para filtrar `temperatures_ind` por filas donde la ciudad esté en la lista `cities`."
   ]
  },
  {
   "cell_type": "code",
   "execution_count": 10,
   "metadata": {},
   "outputs": [],
   "source": [
    "temperatures_ind = (\n",
    "    temperatures\n",
    "    .set_index(\"city\")\n",
    ")"
   ]
  },
  {
   "cell_type": "code",
   "execution_count": 11,
   "metadata": {},
   "outputs": [
    {
     "name": "stdout",
     "output_type": "stream",
     "text": [
      "                        date country  avg_temp_c\n",
      "city                                            \n",
      "Moscow            2000-01-01  Russia      -7.313\n",
      "Moscow            2000-02-01  Russia      -3.551\n",
      "Moscow            2000-03-01  Russia      -1.661\n",
      "Moscow            2000-04-01  Russia      10.096\n",
      "Moscow            2000-05-01  Russia      10.357\n",
      "...                      ...     ...         ...\n",
      "Saint Petersburg  2013-05-01  Russia      12.355\n",
      "Saint Petersburg  2013-06-01  Russia      17.185\n",
      "Saint Petersburg  2013-07-01  Russia      17.234\n",
      "Saint Petersburg  2013-08-01  Russia      17.153\n",
      "Saint Petersburg  2013-09-01  Russia         NaN\n",
      "\n",
      "[330 rows x 3 columns]\n"
     ]
    }
   ],
   "source": [
    "print(temperatures_ind.loc[cities])"
   ]
  },
  {
   "cell_type": "markdown",
   "metadata": {},
   "source": [
    "### Configuración de índices multinivel\n",
    "\n",
    "Los índices también pueden estar formados por múltiples columnas, creando un *índice multinivel* (a veces llamado *índice jerárquico*). Esto tiene ventajas y desventajas.\n",
    "\n",
    "El beneficio es que los índices multinivel hacen que sea más natural razonar sobre variables categóricas anidadas. Por ejemplo, en un ensayo clínico, podrías tener grupos de control y tratamiento. Cada sujeto de prueba pertenece a uno de estos grupos, y podemos decir que un sujeto está anidado dentro del grupo de tratamiento. De manera similar, en el conjunto de datos de temperaturas, una ciudad se encuentra dentro de un país, por lo que podemos decir que una ciudad está anidada dentro del país.\n",
    "\n",
    "La principal desventaja es que el código para manipular índices es diferente del código para manipular columnas, por lo que debes aprender dos sintaxis y llevar un control de cómo están representados los datos.\n",
    "\n",
    "**Instrucciones**\n",
    "\n",
    "- Establece el índice de `temperatures` en las columnas `\"country\"` y `\"city\"`, y asígnalo a `temperatures_ind`.\n",
    "- Especifica dos pares de país/ciudad a mantener: `\"Brazil\"`/`\"Rio De Janeiro\"` y `\"Pakistan\"`/`\"Lahore\"`, asignándolos a `rows_to_keep`.\n",
    "- Imprime y obtén un subconjunto de `temperatures_ind` para `rows_to_keep` utilizando `.loc[]`."
   ]
  },
  {
   "cell_type": "code",
   "execution_count": 12,
   "metadata": {},
   "outputs": [
    {
     "name": "stdout",
     "output_type": "stream",
     "text": [
      "                               date  avg_temp_c\n",
      "country  city                                  \n",
      "Brazil   Rio De Janeiro  2000-01-01      25.974\n",
      "         Rio De Janeiro  2000-02-01      26.699\n",
      "         Rio De Janeiro  2000-03-01      26.270\n",
      "         Rio De Janeiro  2000-04-01      25.750\n",
      "         Rio De Janeiro  2000-05-01      24.356\n",
      "...                             ...         ...\n",
      "Pakistan Lahore          2013-05-01      33.457\n",
      "         Lahore          2013-06-01      34.456\n",
      "         Lahore          2013-07-01      33.279\n",
      "         Lahore          2013-08-01      31.511\n",
      "         Lahore          2013-09-01         NaN\n",
      "\n",
      "[330 rows x 2 columns]\n"
     ]
    }
   ],
   "source": [
    "temperatures_ind = (\n",
    "    temperatures\n",
    "    .set_index([\"country\", \"city\"])\n",
    ")\n",
    "\n",
    "rows_to_keep = [\n",
    "    (\"Brazil\", \"Rio De Janeiro\"),\n",
    "    (\"Pakistan\", \"Lahore\")\n",
    "]\n",
    "\n",
    "print(\n",
    "    temperatures_ind\n",
    "    .loc[rows_to_keep]\n",
    ")"
   ]
  },
  {
   "cell_type": "markdown",
   "metadata": {},
   "source": [
    "### Ordenando por valores de índice\n",
    "\n",
    "Anteriormente, cambiaste el orden de las filas en un DataFrame utilizando `.sort_values()`. También es útil poder ordenar por los elementos en el índice. Para esto, debes usar `.sort_index()`.\n",
    "\n",
    "**Instrucciones**\n",
    "\n",
    "- Ordena `temperatures_ind` por los valores del índice.\n"
   ]
  },
  {
   "cell_type": "code",
   "execution_count": 13,
   "metadata": {},
   "outputs": [
    {
     "name": "stdout",
     "output_type": "stream",
     "text": [
      "                          date  avg_temp_c\n",
      "country     city                          \n",
      "Afghanistan Kabul   2000-01-01       3.326\n",
      "            Kabul   2000-02-01       3.454\n",
      "            Kabul   2000-03-01       9.612\n",
      "            Kabul   2000-04-01      17.925\n",
      "            Kabul   2000-05-01      24.658\n",
      "...                        ...         ...\n",
      "Zimbabwe    Harare  2013-05-01      18.298\n",
      "            Harare  2013-06-01      17.020\n",
      "            Harare  2013-07-01      16.299\n",
      "            Harare  2013-08-01      19.232\n",
      "            Harare  2013-09-01         NaN\n",
      "\n",
      "[16500 rows x 2 columns]\n"
     ]
    }
   ],
   "source": [
    "print(temperatures_ind.sort_index())\n"
   ]
  },
  {
   "cell_type": "markdown",
   "metadata": {},
   "source": [
    "- Ordena `temperatures_ind` por los valores del índice en el nivel `\"city\"`.\n"
   ]
  },
  {
   "cell_type": "code",
   "execution_count": 14,
   "metadata": {},
   "outputs": [
    {
     "name": "stdout",
     "output_type": "stream",
     "text": [
      "                             date  avg_temp_c\n",
      "country       city                           \n",
      "Côte D'Ivoire Abidjan  2000-01-01      27.293\n",
      "              Abidjan  2000-02-01      27.685\n",
      "              Abidjan  2000-03-01      29.061\n",
      "              Abidjan  2000-04-01      28.162\n",
      "              Abidjan  2000-05-01      27.547\n",
      "...                           ...         ...\n",
      "China         Xian     2013-05-01      18.979\n",
      "              Xian     2013-06-01      23.522\n",
      "              Xian     2013-07-01      25.251\n",
      "              Xian     2013-08-01      24.528\n",
      "              Xian     2013-09-01         NaN\n",
      "\n",
      "[16500 rows x 2 columns]\n"
     ]
    }
   ],
   "source": [
    "print(temperatures_ind.sort_index(level=\"city\"))\n"
   ]
  },
  {
   "cell_type": "markdown",
   "metadata": {},
   "source": [
    "- Ordena `temperatures_ind` primero en orden ascendente por `country` y luego en orden descendente por `city`."
   ]
  },
  {
   "cell_type": "code",
   "execution_count": 15,
   "metadata": {},
   "outputs": [
    {
     "name": "stdout",
     "output_type": "stream",
     "text": [
      "                          date  avg_temp_c\n",
      "country     city                          \n",
      "Afghanistan Kabul   2000-01-01       3.326\n",
      "            Kabul   2000-02-01       3.454\n",
      "            Kabul   2000-03-01       9.612\n",
      "            Kabul   2000-04-01      17.925\n",
      "            Kabul   2000-05-01      24.658\n",
      "...                        ...         ...\n",
      "Zimbabwe    Harare  2013-05-01      18.298\n",
      "            Harare  2013-06-01      17.020\n",
      "            Harare  2013-07-01      16.299\n",
      "            Harare  2013-08-01      19.232\n",
      "            Harare  2013-09-01         NaN\n",
      "\n",
      "[16500 rows x 2 columns]\n"
     ]
    }
   ],
   "source": [
    "print(\n",
    "    temperatures_ind\n",
    "    .sort_index(\n",
    "        level=[\"country\", \"city\"], \n",
    "        ascending=[True, False]\n",
    "    )\n",
    ")"
   ]
  },
  {
   "cell_type": "markdown",
   "metadata": {},
   "source": [
    "## Corte y subsetting con `.loc` y `.iloc`\n",
    "\n",
    "### Corte de valores de índice\n",
    "\n",
    "El corte (*slicing*) te permite seleccionar elementos consecutivos de un objeto utilizando la sintaxis `primero:último`. Los DataFrames pueden cortarse por valores de índice o por número de fila/columna; comenzaremos con el primer caso. Esto implica realizar el corte dentro del método `.loc[]`.\n",
    "\n",
    "En comparación con el corte de listas, hay algunos puntos a recordar:\n",
    "\n",
    "- Solo puedes cortar un índice si el índice está ordenado (usando `.sort_index()`).\n",
    "- Para cortar en el nivel exterior, `primero` y `último` pueden ser cadenas de texto.\n",
    "- Para cortar en niveles internos, `primero` y `último` deben ser tuplas.\n",
    "- Si pasas un solo rango a `.loc[]`, este cortará las filas.\n",
    "\n",
    "**Instrucciones**\n",
    "\n",
    "- Ordena el índice de `temperatures_ind`.\n",
    "- Usa corte con `.loc[]` para obtener estos subconjuntos:\n",
    "    - Desde `Pakistan` hasta `Russia`.\n"
   ]
  },
  {
   "cell_type": "code",
   "execution_count": 16,
   "metadata": {},
   "outputs": [
    {
     "data": {
      "text/html": [
       "<div>\n",
       "<style scoped>\n",
       "    .dataframe tbody tr th:only-of-type {\n",
       "        vertical-align: middle;\n",
       "    }\n",
       "\n",
       "    .dataframe tbody tr th {\n",
       "        vertical-align: top;\n",
       "    }\n",
       "\n",
       "    .dataframe thead th {\n",
       "        text-align: right;\n",
       "    }\n",
       "</style>\n",
       "<table border=\"1\" class=\"dataframe\">\n",
       "  <thead>\n",
       "    <tr style=\"text-align: right;\">\n",
       "      <th></th>\n",
       "      <th></th>\n",
       "      <th>date</th>\n",
       "      <th>avg_temp_c</th>\n",
       "    </tr>\n",
       "    <tr>\n",
       "      <th>country</th>\n",
       "      <th>city</th>\n",
       "      <th></th>\n",
       "      <th></th>\n",
       "    </tr>\n",
       "  </thead>\n",
       "  <tbody>\n",
       "    <tr>\n",
       "      <th rowspan=\"5\" valign=\"top\">Côte D'Ivoire</th>\n",
       "      <th>Abidjan</th>\n",
       "      <td>2000-01-01</td>\n",
       "      <td>27.293</td>\n",
       "    </tr>\n",
       "    <tr>\n",
       "      <th>Abidjan</th>\n",
       "      <td>2000-02-01</td>\n",
       "      <td>27.685</td>\n",
       "    </tr>\n",
       "    <tr>\n",
       "      <th>Abidjan</th>\n",
       "      <td>2000-03-01</td>\n",
       "      <td>29.061</td>\n",
       "    </tr>\n",
       "    <tr>\n",
       "      <th>Abidjan</th>\n",
       "      <td>2000-04-01</td>\n",
       "      <td>28.162</td>\n",
       "    </tr>\n",
       "    <tr>\n",
       "      <th>Abidjan</th>\n",
       "      <td>2000-05-01</td>\n",
       "      <td>27.547</td>\n",
       "    </tr>\n",
       "    <tr>\n",
       "      <th>...</th>\n",
       "      <th>...</th>\n",
       "      <td>...</td>\n",
       "      <td>...</td>\n",
       "    </tr>\n",
       "    <tr>\n",
       "      <th rowspan=\"5\" valign=\"top\">China</th>\n",
       "      <th>Xian</th>\n",
       "      <td>2013-05-01</td>\n",
       "      <td>18.979</td>\n",
       "    </tr>\n",
       "    <tr>\n",
       "      <th>Xian</th>\n",
       "      <td>2013-06-01</td>\n",
       "      <td>23.522</td>\n",
       "    </tr>\n",
       "    <tr>\n",
       "      <th>Xian</th>\n",
       "      <td>2013-07-01</td>\n",
       "      <td>25.251</td>\n",
       "    </tr>\n",
       "    <tr>\n",
       "      <th>Xian</th>\n",
       "      <td>2013-08-01</td>\n",
       "      <td>24.528</td>\n",
       "    </tr>\n",
       "    <tr>\n",
       "      <th>Xian</th>\n",
       "      <td>2013-09-01</td>\n",
       "      <td>NaN</td>\n",
       "    </tr>\n",
       "  </tbody>\n",
       "</table>\n",
       "<p>16500 rows × 2 columns</p>\n",
       "</div>"
      ],
      "text/plain": [
       "                             date  avg_temp_c\n",
       "country       city                           \n",
       "Côte D'Ivoire Abidjan  2000-01-01      27.293\n",
       "              Abidjan  2000-02-01      27.685\n",
       "              Abidjan  2000-03-01      29.061\n",
       "              Abidjan  2000-04-01      28.162\n",
       "              Abidjan  2000-05-01      27.547\n",
       "...                           ...         ...\n",
       "China         Xian     2013-05-01      18.979\n",
       "              Xian     2013-06-01      23.522\n",
       "              Xian     2013-07-01      25.251\n",
       "              Xian     2013-08-01      24.528\n",
       "              Xian     2013-09-01         NaN\n",
       "\n",
       "[16500 rows x 2 columns]"
      ]
     },
     "execution_count": 16,
     "metadata": {},
     "output_type": "execute_result"
    }
   ],
   "source": [
    "temperatures_ind"
   ]
  },
  {
   "cell_type": "code",
   "execution_count": 18,
   "metadata": {},
   "outputs": [],
   "source": [
    "temperatures_srt = temperatures_ind.sort_index()\n",
    "\n"
   ]
  },
  {
   "cell_type": "code",
   "execution_count": 19,
   "metadata": {},
   "outputs": [
    {
     "name": "stdout",
     "output_type": "stream",
     "text": [
      "                                 date  avg_temp_c\n",
      "country  city                                    \n",
      "Pakistan Faisalabad        2000-01-01      12.792\n",
      "         Faisalabad        2000-02-01      14.339\n",
      "         Faisalabad        2000-03-01      20.309\n",
      "         Faisalabad        2000-04-01      29.072\n",
      "         Faisalabad        2000-05-01      34.845\n",
      "...                               ...         ...\n",
      "Russia   Saint Petersburg  2013-05-01      12.355\n",
      "         Saint Petersburg  2013-06-01      17.185\n",
      "         Saint Petersburg  2013-07-01      17.234\n",
      "         Saint Petersburg  2013-08-01      17.153\n",
      "         Saint Petersburg  2013-09-01         NaN\n",
      "\n",
      "[1155 rows x 2 columns]\n"
     ]
    }
   ],
   "source": [
    "print(temperatures_srt.loc[\"Pakistan\":\"Russia\"])"
   ]
  },
  {
   "cell_type": "markdown",
   "metadata": {},
   "source": [
    "- Desde `Lahore` hasta `Moscow`. (*Esto devolverá un resultado sin sentido.*)\n",
    " "
   ]
  },
  {
   "cell_type": "code",
   "execution_count": 20,
   "metadata": {},
   "outputs": [
    {
     "name": "stdout",
     "output_type": "stream",
     "text": [
      "                          date  avg_temp_c\n",
      "country city                              \n",
      "Mexico  Mexico      2000-01-01      12.694\n",
      "        Mexico      2000-02-01      14.677\n",
      "        Mexico      2000-03-01      17.376\n",
      "        Mexico      2000-04-01      18.294\n",
      "        Mexico      2000-05-01      18.562\n",
      "...                        ...         ...\n",
      "Morocco Casablanca  2013-05-01      19.217\n",
      "        Casablanca  2013-06-01      23.649\n",
      "        Casablanca  2013-07-01      27.488\n",
      "        Casablanca  2013-08-01      27.952\n",
      "        Casablanca  2013-09-01         NaN\n",
      "\n",
      "[330 rows x 2 columns]\n"
     ]
    }
   ],
   "source": [
    "print(temperatures_srt.loc[\"Lahore\":\"Moscow\"])"
   ]
  },
  {
   "cell_type": "markdown",
   "metadata": {},
   "source": [
    "   - Desde `Pakistan, Lahore` hasta `Russia, Moscow`."
   ]
  },
  {
   "cell_type": "code",
   "execution_count": 21,
   "metadata": {},
   "outputs": [
    {
     "name": "stdout",
     "output_type": "stream",
     "text": [
      "                       date  avg_temp_c\n",
      "country  city                          \n",
      "Pakistan Lahore  2000-01-01      12.792\n",
      "         Lahore  2000-02-01      14.339\n",
      "         Lahore  2000-03-01      20.309\n",
      "         Lahore  2000-04-01      29.072\n",
      "         Lahore  2000-05-01      34.845\n",
      "...                     ...         ...\n",
      "Russia   Moscow  2013-05-01      16.152\n",
      "         Moscow  2013-06-01      18.718\n",
      "         Moscow  2013-07-01      18.136\n",
      "         Moscow  2013-08-01      17.485\n",
      "         Moscow  2013-09-01         NaN\n",
      "\n",
      "[660 rows x 2 columns]\n"
     ]
    }
   ],
   "source": [
    "print(temperatures_srt.loc[(\"Pakistan\", \"Lahore\"): (\"Russia\", \"Moscow\")])"
   ]
  },
  {
   "cell_type": "markdown",
   "metadata": {},
   "source": [
    "### Corte en ambas direcciones\n",
    "\n",
    "Has visto cómo cortar DataFrames por filas y por columnas, pero dado que los DataFrames son objetos bidimensionales, a menudo es natural cortar ambas dimensiones al mismo tiempo. Es decir, pasando dos argumentos a `.loc[]`, puedes obtener un subconjunto de filas y columnas en una sola operación.\n",
    "\n",
    "`pandas` está cargado como `pd`. `temperatures_srt` está indexado por `country` y `city`, tiene un índice ordenado y está disponible.\n",
    "\n",
    "**Instrucciones**\n",
    "\n",
    "- Usa corte con `.loc[]` para obtener un subconjunto de filas desde `India, Hyderabad` hasta `Iraq, Baghdad`.\n"
   ]
  },
  {
   "cell_type": "code",
   "execution_count": 22,
   "metadata": {},
   "outputs": [
    {
     "name": "stdout",
     "output_type": "stream",
     "text": [
      "                         date  avg_temp_c\n",
      "country city                             \n",
      "India   Hyderabad  2000-01-01      23.779\n",
      "        Hyderabad  2000-02-01      25.826\n",
      "        Hyderabad  2000-03-01      28.821\n",
      "        Hyderabad  2000-04-01      32.698\n",
      "        Hyderabad  2000-05-01      32.438\n",
      "...                       ...         ...\n",
      "Iraq    Baghdad    2013-05-01      28.673\n",
      "        Baghdad    2013-06-01      33.803\n",
      "        Baghdad    2013-07-01      36.392\n",
      "        Baghdad    2013-08-01      35.463\n",
      "        Baghdad    2013-09-01         NaN\n",
      "\n",
      "[2145 rows x 2 columns]\n"
     ]
    }
   ],
   "source": [
    "print(\n",
    "    temperatures_srt\n",
    "    .loc[\n",
    "        (\"India\", \"Hyderabad\"): (\"Iraq\", \"Baghdad\")\n",
    "    ]\n",
    ")\n"
   ]
  },
  {
   "cell_type": "markdown",
   "metadata": {},
   "source": [
    "- Usa corte con `.loc[]` para obtener un subconjunto de columnas desde `date` hasta `avg_temp_c`.\n"
   ]
  },
  {
   "cell_type": "code",
   "execution_count": null,
   "metadata": {},
   "outputs": [],
   "source": [
    "print(\n",
    "    temperatures_srt\n",
    "    .loc[\n",
    "        :, \"date\":\"avg_temp_c\"\n",
    "    ]\n",
    ")"
   ]
  },
  {
   "cell_type": "markdown",
   "metadata": {},
   "source": [
    "- Realiza un corte en ambas direcciones a la vez, desde `Hyderabad` hasta `Baghdad`, y desde `date` hasta `avg_temp_c`."
   ]
  },
  {
   "cell_type": "code",
   "execution_count": 23,
   "metadata": {},
   "outputs": [
    {
     "name": "stdout",
     "output_type": "stream",
     "text": [
      "                         date  avg_temp_c\n",
      "country city                             \n",
      "India   Hyderabad  2000-01-01      23.779\n",
      "        Hyderabad  2000-02-01      25.826\n",
      "        Hyderabad  2000-03-01      28.821\n",
      "        Hyderabad  2000-04-01      32.698\n",
      "        Hyderabad  2000-05-01      32.438\n",
      "...                       ...         ...\n",
      "Iraq    Baghdad    2013-05-01      28.673\n",
      "        Baghdad    2013-06-01      33.803\n",
      "        Baghdad    2013-07-01      36.392\n",
      "        Baghdad    2013-08-01      35.463\n",
      "        Baghdad    2013-09-01         NaN\n",
      "\n",
      "[2145 rows x 2 columns]\n"
     ]
    }
   ],
   "source": [
    "print(\n",
    "    temperatures_srt\n",
    "    .loc[\n",
    "        (\"India\", \"Hyderabad\"): (\"Iraq\", \"Baghdad\"),\n",
    "          \"date\":\"avg_temp_c\"\n",
    "    ]\n",
    ")"
   ]
  },
  {
   "cell_type": "markdown",
   "metadata": {},
   "source": [
    "### Corte de series temporales\n",
    "\n",
    "El corte (*slicing*) es especialmente útil para series temporales, ya que es común querer filtrar datos dentro de un rango de fechas. Para ello, agrega la columna `date` al índice y luego usa `.loc[]` para realizar el subsetting. Lo más importante es asegurarte de que tus fechas estén en formato ISO 8601, es decir:\n",
    "\n",
    "- `\"yyyy-mm-dd\"` para año-mes-día,\n",
    "- `\"yyyy-mm\"` para año-mes,\n",
    "- `\"yyyy\"` para año.\n",
    "\n",
    "Recuerda de 1.1 que puedes combinar múltiples condiciones booleanas utilizando operadores lógicos, como `&`. Para hacerlo en una sola línea de código, es necesario agregar paréntesis `()` alrededor de cada condición.\n",
    "\n",
    "**Instrucciones**\n",
    "\n",
    "- Usa condiciones booleanas, no `.isin()` ni `.loc[]`, y la fecha completa en formato `\"yyyy-mm-dd\"`, para obtener un subconjunto de `temperatures` con filas donde la columna `date` esté en los años 2010 y 2011, e imprime los resultados.\n"
   ]
  },
  {
   "cell_type": "code",
   "execution_count": 24,
   "metadata": {},
   "outputs": [
    {
     "name": "stdout",
     "output_type": "stream",
     "text": [
      "             date     city        country  avg_temp_c\n",
      "120    2010-01-01  Abidjan  Côte D'Ivoire      28.270\n",
      "121    2010-02-01  Abidjan  Côte D'Ivoire      29.262\n",
      "122    2010-03-01  Abidjan  Côte D'Ivoire      29.596\n",
      "123    2010-04-01  Abidjan  Côte D'Ivoire      29.068\n",
      "124    2010-05-01  Abidjan  Côte D'Ivoire      28.258\n",
      "...           ...      ...            ...         ...\n",
      "16474  2011-08-01     Xian          China      23.069\n",
      "16475  2011-09-01     Xian          China      16.775\n",
      "16476  2011-10-01     Xian          China      12.587\n",
      "16477  2011-11-01     Xian          China       7.543\n",
      "16478  2011-12-01     Xian          China      -0.490\n",
      "\n",
      "[2400 rows x 4 columns]\n"
     ]
    }
   ],
   "source": [
    "temperatures_bool = temperatures[(temperatures[\"date\"] >= \"2010-01-01\") & (temperatures[\"date\"] <= \"2011-12-31\")]\n",
    "print(temperatures_bool)"
   ]
  },
  {
   "cell_type": "markdown",
   "metadata": {},
   "source": [
    "- Establece el índice de `temperatures` en la columna `date` y ordénalo."
   ]
  },
  {
   "cell_type": "code",
   "execution_count": 25,
   "metadata": {},
   "outputs": [],
   "source": [
    "temperatures_ind = (\n",
    "    temperatures\n",
    "    .set_index(\"date\")\n",
    "    .sort_index()\n",
    ")"
   ]
  },
  {
   "cell_type": "markdown",
   "metadata": {},
   "source": [
    "- Usa `.loc[]` para obtener un subconjunto de `temperatures_ind` con filas en los años 2010 y 2011."
   ]
  },
  {
   "cell_type": "code",
   "execution_count": 26,
   "metadata": {},
   "outputs": [
    {
     "name": "stdout",
     "output_type": "stream",
     "text": [
      "                  city    country  avg_temp_c\n",
      "date                                         \n",
      "2010-01-01  Faisalabad   Pakistan      11.810\n",
      "2010-01-01   Melbourne  Australia      20.016\n",
      "2010-01-01   Chongqing      China       7.921\n",
      "2010-01-01   São Paulo     Brazil      23.738\n",
      "2010-01-01   Guangzhou      China      14.136\n",
      "...                ...        ...         ...\n",
      "2011-12-01      Nagoya      Japan       6.476\n",
      "2011-12-01   Hyderabad      India      23.613\n",
      "2011-12-01        Cali   Colombia      21.559\n",
      "2011-12-01        Lima       Peru      18.293\n",
      "2011-12-01     Bangkok   Thailand      25.021\n",
      "\n",
      "[2400 rows x 3 columns]\n"
     ]
    }
   ],
   "source": [
    "print(\n",
    "    temperatures_ind\n",
    "    .loc[\"2010-01-01\":\"2011-12-31\"]\n",
    ")"
   ]
  },
  {
   "cell_type": "markdown",
   "metadata": {},
   "source": [
    "- Usa `.loc[]` para obtener un subconjunto de `temperatures_ind` con filas desde agosto de 2010 hasta febrero de 2011."
   ]
  },
  {
   "cell_type": "code",
   "execution_count": 27,
   "metadata": {},
   "outputs": [
    {
     "name": "stdout",
     "output_type": "stream",
     "text": [
      "                city        country  avg_temp_c\n",
      "date                                           \n",
      "2010-08-01  Calcutta          India      30.226\n",
      "2010-08-01      Pune          India      24.941\n",
      "2010-08-01     Izmir         Turkey      28.352\n",
      "2010-08-01   Tianjin          China      25.543\n",
      "2010-08-01    Manila    Philippines      27.101\n",
      "...              ...            ...         ...\n",
      "2011-02-01     Kabul    Afghanistan       3.914\n",
      "2011-02-01   Chicago  United States       0.276\n",
      "2011-02-01    Aleppo          Syria       8.246\n",
      "2011-02-01     Delhi          India      18.136\n",
      "2011-02-01   Rangoon          Burma      26.631\n",
      "\n",
      "[700 rows x 3 columns]\n"
     ]
    }
   ],
   "source": [
    "print(\n",
    "    temperatures_ind\n",
    "    .loc[\n",
    "        \"2010-08-01\":\"2011-02-29\"\n",
    "    ]\n",
    ")"
   ]
  },
  {
   "cell_type": "markdown",
   "metadata": {},
   "source": [
    "### Subsetting por número de fila/columna\n",
    "\n",
    "Las formas más comunes de obtener subconjuntos de filas son las que hemos visto anteriormente: usando una condición booleana o mediante etiquetas de índice. Sin embargo, en algunas ocasiones también es útil seleccionar filas por su número de posición.\n",
    "\n",
    "Para esto, se usa `.iloc[]`, y al igual que `.loc[]`, puede aceptar dos argumentos para permitir el subsetting tanto por filas como por columnas.\n",
    "\n",
    "`pandas` está cargado como `pd`. `temperatures` (sin índice) está disponible.\n",
    "\n",
    "**Instrucciones**\n",
    "\n",
    "Usa `.iloc[]` en `temperatures` para obtener los siguientes subconjuntos:\n",
    "\n",
    "- Obtén la fila 23 y la columna 2 (posiciones de índice 22 y 1).\n"
   ]
  },
  {
   "cell_type": "code",
   "execution_count": 28,
   "metadata": {},
   "outputs": [
    {
     "name": "stdout",
     "output_type": "stream",
     "text": [
      "Abidjan\n"
     ]
    }
   ],
   "source": [
    "print(\n",
    "    temperatures\n",
    "    .iloc[22, 1]\n",
    ")\n"
   ]
  },
  {
   "cell_type": "markdown",
   "metadata": {},
   "source": [
    "- Obtén las primeras 5 filas (posiciones de índice de 0 a 4)."
   ]
  },
  {
   "cell_type": "code",
   "execution_count": 29,
   "metadata": {},
   "outputs": [
    {
     "name": "stdout",
     "output_type": "stream",
     "text": [
      "         date     city        country  avg_temp_c\n",
      "0  2000-01-01  Abidjan  Côte D'Ivoire      27.293\n",
      "1  2000-02-01  Abidjan  Côte D'Ivoire      27.685\n",
      "2  2000-03-01  Abidjan  Côte D'Ivoire      29.061\n",
      "3  2000-04-01  Abidjan  Côte D'Ivoire      28.162\n",
      "4  2000-05-01  Abidjan  Côte D'Ivoire      27.547\n"
     ]
    }
   ],
   "source": [
    "print(\n",
    "    temperatures\n",
    "    .iloc[:5, :]\n",
    ")"
   ]
  },
  {
   "cell_type": "markdown",
   "metadata": {},
   "source": [
    "- Obtén todas las filas y las columnas 3 y 4 (posiciones de índice de 2 a 3)."
   ]
  },
  {
   "cell_type": "code",
   "execution_count": 30,
   "metadata": {},
   "outputs": [
    {
     "name": "stdout",
     "output_type": "stream",
     "text": [
      "             country  avg_temp_c\n",
      "0      Côte D'Ivoire      27.293\n",
      "1      Côte D'Ivoire      27.685\n",
      "2      Côte D'Ivoire      29.061\n",
      "3      Côte D'Ivoire      28.162\n",
      "4      Côte D'Ivoire      27.547\n",
      "...              ...         ...\n",
      "16495          China      18.979\n",
      "16496          China      23.522\n",
      "16497          China      25.251\n",
      "16498          China      24.528\n",
      "16499          China         NaN\n",
      "\n",
      "[16500 rows x 2 columns]\n"
     ]
    }
   ],
   "source": [
    "print(\n",
    "    temperatures\n",
    "    .iloc[:, 2:4]\n",
    ")"
   ]
  },
  {
   "cell_type": "markdown",
   "metadata": {},
   "source": [
    "- Obtén las primeras 5 filas y las columnas 3 y 4."
   ]
  },
  {
   "cell_type": "code",
   "execution_count": 31,
   "metadata": {},
   "outputs": [
    {
     "name": "stdout",
     "output_type": "stream",
     "text": [
      "         country  avg_temp_c\n",
      "0  Côte D'Ivoire      27.293\n",
      "1  Côte D'Ivoire      27.685\n",
      "2  Côte D'Ivoire      29.061\n",
      "3  Côte D'Ivoire      28.162\n",
      "4  Côte D'Ivoire      27.547\n"
     ]
    }
   ],
   "source": [
    "print(\n",
    "    temperatures\n",
    "    .iloc[:5, 2:4]\n",
    ")"
   ]
  },
  {
   "cell_type": "markdown",
   "metadata": {},
   "source": [
    "## Trabajando con tablas dinámicas (*pivot tables*)\n",
    "\n",
    "### Crear una tabla dinámica de temperaturas por ciudad y año\n",
    "\n",
    "Es interesante observar cómo cambian las temperaturas de cada ciudad a lo largo del tiempo. Sin embargo, ver cada mes por separado genera una tabla muy grande, lo que puede dificultar su interpretación. En su lugar, analizaremos cómo cambian las temperaturas por año.\n",
    "\n",
    "Puedes acceder a los componentes de una fecha (año, mes y día) usando el formato `dataframe[\"columna\"].dt.componente`. Por ejemplo, para obtener el mes se usa `dataframe[\"columna\"].dt.month`, y para obtener el año se usa `dataframe[\"columna\"].dt.year`.\n",
    "\n",
    "Una vez que tengas la columna del año, puedes crear una tabla dinámica (*pivot table*) con los datos agregados por ciudad y año, lo cual explorarás en los siguientes ejercicios.\n",
    "\n",
    "\n",
    "**Instrucciones**\n",
    "\n",
    "- Agrega una columna `year` a `temperatures`, obteniendo el componente `year` de la columna `date`.\n"
   ]
  },
  {
   "cell_type": "code",
   "execution_count": 32,
   "metadata": {},
   "outputs": [],
   "source": [
    "temperatures[\"date\"] = (\n",
    "    pd\n",
    "    .to_datetime(temperatures[\"date\"])\n",
    ") "
   ]
  },
  {
   "cell_type": "code",
   "execution_count": 33,
   "metadata": {},
   "outputs": [],
   "source": [
    "temperatures[\"year\"] = (\n",
    "    temperatures[\"date\"]\n",
    "    .dt.year\n",
    ")"
   ]
  },
  {
   "cell_type": "markdown",
   "metadata": {},
   "source": [
    "- Crea una tabla dinámica (*pivot table*) de la columna `avg_temp_c`, con `country` y `city` como filas, y `year` como columnas. Asígnala a `temp_by_country_city_vs_year` y *observa el resultado*."
   ]
  },
  {
   "cell_type": "code",
   "execution_count": 34,
   "metadata": {},
   "outputs": [
    {
     "name": "stdout",
     "output_type": "stream",
     "text": [
      "year                                 2000       2001       2002       2003  \\\n",
      "country       city                                                           \n",
      "Afghanistan   Kabul             15.822667  15.847917  15.714583  15.132583   \n",
      "Angola        Luanda            24.410333  24.427083  24.790917  24.867167   \n",
      "Australia     Melbourne         14.320083  14.180000  14.075833  13.985583   \n",
      "              Sydney            17.567417  17.854500  17.733833  17.592333   \n",
      "Bangladesh    Dhaka             25.905250  25.931250  26.095000  25.927417   \n",
      "...                                   ...        ...        ...        ...   \n",
      "United States Chicago           11.089667  11.703083  11.532083  10.481583   \n",
      "              Los Angeles       16.643333  16.466250  16.430250  16.944667   \n",
      "              New York           9.969083  10.931000  11.252167   9.836000   \n",
      "Vietnam       Ho Chi Minh City  27.588917  27.831750  28.064750  27.827667   \n",
      "Zimbabwe      Harare            20.283667  20.861000  21.079333  20.889167   \n",
      "\n",
      "year                                 2004       2005       2006       2007  \\\n",
      "country       city                                                           \n",
      "Afghanistan   Kabul             16.128417  14.847500  15.798500  15.518000   \n",
      "Angola        Luanda            24.216167  24.414583  24.138417  24.241583   \n",
      "Australia     Melbourne         13.742083  14.378500  13.991083  14.991833   \n",
      "              Sydney            17.869667  18.028083  17.749500  18.020833   \n",
      "Bangladesh    Dhaka             26.136083  26.193333  26.440417  25.951333   \n",
      "...                                   ...        ...        ...        ...   \n",
      "United States Chicago           10.943417  11.583833  11.870500  11.448333   \n",
      "              Los Angeles       16.552833  16.431417  16.623083  16.699917   \n",
      "              New York          10.389500  10.681417  11.519250  10.627333   \n",
      "Vietnam       Ho Chi Minh City  27.686583  27.884000  28.044000  27.866667   \n",
      "Zimbabwe      Harare            20.307667  21.487417  20.699750  20.746250   \n",
      "\n",
      "year                                 2008       2009       2010       2011  \\\n",
      "country       city                                                           \n",
      "Afghanistan   Kabul             15.479250  15.093333  15.676000  15.812167   \n",
      "Angola        Luanda            24.266333  24.325083  24.440250  24.150750   \n",
      "Australia     Melbourne         14.110583  14.647417  14.231667  14.190917   \n",
      "              Sydney            17.321083  18.175833  17.999000  17.713333   \n",
      "Bangladesh    Dhaka             26.004500  26.535583  26.648167  25.803250   \n",
      "...                                   ...        ...        ...        ...   \n",
      "United States Chicago           10.242417  10.298333  11.815917  11.214250   \n",
      "              Los Angeles       17.014750  16.677000  15.887000  15.874833   \n",
      "              New York          10.641667  10.141833  11.357583  11.272250   \n",
      "Vietnam       Ho Chi Minh City  27.611417  27.853333  28.281750  27.675417   \n",
      "Zimbabwe      Harare            20.680500  20.523833  21.165833  20.781750   \n",
      "\n",
      "year                                 2012       2013  \n",
      "country       city                                    \n",
      "Afghanistan   Kabul             14.510333  16.206125  \n",
      "Angola        Luanda            24.240083  24.553875  \n",
      "Australia     Melbourne         14.268667  14.741500  \n",
      "              Sydney            17.474333  18.089750  \n",
      "Bangladesh    Dhaka             26.283583  26.587000  \n",
      "...                                   ...        ...  \n",
      "United States Chicago           12.821250  11.586889  \n",
      "              Los Angeles       17.089583  18.120667  \n",
      "              New York          11.971500  12.163889  \n",
      "Vietnam       Ho Chi Minh City  28.248750  28.455000  \n",
      "Zimbabwe      Harare            20.523333  19.756500  \n",
      "\n",
      "[100 rows x 14 columns]\n"
     ]
    }
   ],
   "source": [
    "temp_by_country_city_vs_year = (\n",
    "    temperatures\n",
    "    .pivot_table(\n",
    "        values=\"avg_temp_c\",\n",
    "        index=[\"country\", \"city\"], \n",
    "        columns=\"year\"\n",
    "    )\n",
    ")\n",
    "\n",
    "print(temp_by_country_city_vs_year)"
   ]
  },
  {
   "cell_type": "markdown",
   "metadata": {},
   "source": [
    "### Subconjuntos en tablas dinámicas\n",
    "\n",
    "Una tabla dinámica (*pivot table*) es simplemente un DataFrame con índices ordenados, por lo que puedes aplicar las técnicas que ya aprendiste para obtener subconjuntos. En particular, la combinación de `.loc[]` con cortes (*slicing*) suele ser muy útil.\n",
    "\n",
    "\n",
    "**Instrucciones**\n",
    "\n",
    "Usa `.loc[]` en `temp_by_country_city_vs_year` para obtener los siguientes subconjuntos:\n",
    "\n",
    "- Desde `Egypt` hasta `India`.\n"
   ]
  },
  {
   "cell_type": "code",
   "execution_count": 35,
   "metadata": {},
   "outputs": [
    {
     "data": {
      "text/html": [
       "<div>\n",
       "<style scoped>\n",
       "    .dataframe tbody tr th:only-of-type {\n",
       "        vertical-align: middle;\n",
       "    }\n",
       "\n",
       "    .dataframe tbody tr th {\n",
       "        vertical-align: top;\n",
       "    }\n",
       "\n",
       "    .dataframe thead th {\n",
       "        text-align: right;\n",
       "    }\n",
       "</style>\n",
       "<table border=\"1\" class=\"dataframe\">\n",
       "  <thead>\n",
       "    <tr style=\"text-align: right;\">\n",
       "      <th></th>\n",
       "      <th>year</th>\n",
       "      <th>2000</th>\n",
       "      <th>2001</th>\n",
       "      <th>2002</th>\n",
       "      <th>2003</th>\n",
       "      <th>2004</th>\n",
       "      <th>2005</th>\n",
       "      <th>2006</th>\n",
       "      <th>2007</th>\n",
       "      <th>2008</th>\n",
       "      <th>2009</th>\n",
       "      <th>2010</th>\n",
       "      <th>2011</th>\n",
       "      <th>2012</th>\n",
       "      <th>2013</th>\n",
       "    </tr>\n",
       "    <tr>\n",
       "      <th>country</th>\n",
       "      <th>city</th>\n",
       "      <th></th>\n",
       "      <th></th>\n",
       "      <th></th>\n",
       "      <th></th>\n",
       "      <th></th>\n",
       "      <th></th>\n",
       "      <th></th>\n",
       "      <th></th>\n",
       "      <th></th>\n",
       "      <th></th>\n",
       "      <th></th>\n",
       "      <th></th>\n",
       "      <th></th>\n",
       "      <th></th>\n",
       "    </tr>\n",
       "  </thead>\n",
       "  <tbody>\n",
       "    <tr>\n",
       "      <th rowspan=\"3\" valign=\"top\">Egypt</th>\n",
       "      <th>Alexandria</th>\n",
       "      <td>20.744500</td>\n",
       "      <td>21.454583</td>\n",
       "      <td>21.456167</td>\n",
       "      <td>21.221417</td>\n",
       "      <td>21.064167</td>\n",
       "      <td>21.082333</td>\n",
       "      <td>21.148167</td>\n",
       "      <td>21.507750</td>\n",
       "      <td>21.739000</td>\n",
       "      <td>21.670500</td>\n",
       "      <td>22.459583</td>\n",
       "      <td>21.181500</td>\n",
       "      <td>21.552583</td>\n",
       "      <td>21.438500</td>\n",
       "    </tr>\n",
       "    <tr>\n",
       "      <th>Cairo</th>\n",
       "      <td>21.486167</td>\n",
       "      <td>22.330833</td>\n",
       "      <td>22.414083</td>\n",
       "      <td>22.170500</td>\n",
       "      <td>22.081917</td>\n",
       "      <td>22.006500</td>\n",
       "      <td>22.050000</td>\n",
       "      <td>22.361000</td>\n",
       "      <td>22.644500</td>\n",
       "      <td>22.625000</td>\n",
       "      <td>23.718250</td>\n",
       "      <td>21.986917</td>\n",
       "      <td>22.484250</td>\n",
       "      <td>22.907000</td>\n",
       "    </tr>\n",
       "    <tr>\n",
       "      <th>Gizeh</th>\n",
       "      <td>21.486167</td>\n",
       "      <td>22.330833</td>\n",
       "      <td>22.414083</td>\n",
       "      <td>22.170500</td>\n",
       "      <td>22.081917</td>\n",
       "      <td>22.006500</td>\n",
       "      <td>22.050000</td>\n",
       "      <td>22.361000</td>\n",
       "      <td>22.644500</td>\n",
       "      <td>22.625000</td>\n",
       "      <td>23.718250</td>\n",
       "      <td>21.986917</td>\n",
       "      <td>22.484250</td>\n",
       "      <td>22.907000</td>\n",
       "    </tr>\n",
       "    <tr>\n",
       "      <th>Ethiopia</th>\n",
       "      <th>Addis Abeba</th>\n",
       "      <td>18.241250</td>\n",
       "      <td>18.296417</td>\n",
       "      <td>18.469750</td>\n",
       "      <td>18.320917</td>\n",
       "      <td>18.292750</td>\n",
       "      <td>18.312833</td>\n",
       "      <td>18.427083</td>\n",
       "      <td>18.142583</td>\n",
       "      <td>18.165000</td>\n",
       "      <td>18.765333</td>\n",
       "      <td>18.298250</td>\n",
       "      <td>18.606750</td>\n",
       "      <td>18.448583</td>\n",
       "      <td>19.539000</td>\n",
       "    </tr>\n",
       "    <tr>\n",
       "      <th>France</th>\n",
       "      <th>Paris</th>\n",
       "      <td>11.739667</td>\n",
       "      <td>11.371250</td>\n",
       "      <td>11.871333</td>\n",
       "      <td>11.909500</td>\n",
       "      <td>11.338833</td>\n",
       "      <td>11.552917</td>\n",
       "      <td>11.788500</td>\n",
       "      <td>11.750833</td>\n",
       "      <td>11.278250</td>\n",
       "      <td>11.464083</td>\n",
       "      <td>10.409833</td>\n",
       "      <td>12.325750</td>\n",
       "      <td>11.219917</td>\n",
       "      <td>11.011625</td>\n",
       "    </tr>\n",
       "    <tr>\n",
       "      <th>Germany</th>\n",
       "      <th>Berlin</th>\n",
       "      <td>10.963667</td>\n",
       "      <td>9.690250</td>\n",
       "      <td>10.264417</td>\n",
       "      <td>10.065750</td>\n",
       "      <td>9.822583</td>\n",
       "      <td>9.919083</td>\n",
       "      <td>10.545333</td>\n",
       "      <td>10.883167</td>\n",
       "      <td>10.657750</td>\n",
       "      <td>10.062500</td>\n",
       "      <td>8.606833</td>\n",
       "      <td>10.556417</td>\n",
       "      <td>9.964333</td>\n",
       "      <td>10.121500</td>\n",
       "    </tr>\n",
       "    <tr>\n",
       "      <th rowspan=\"14\" valign=\"top\">India</th>\n",
       "      <th>Ahmadabad</th>\n",
       "      <td>27.436000</td>\n",
       "      <td>27.198083</td>\n",
       "      <td>27.719083</td>\n",
       "      <td>27.403833</td>\n",
       "      <td>27.628333</td>\n",
       "      <td>26.828083</td>\n",
       "      <td>27.282833</td>\n",
       "      <td>27.511167</td>\n",
       "      <td>27.048500</td>\n",
       "      <td>28.095833</td>\n",
       "      <td>28.017833</td>\n",
       "      <td>27.290417</td>\n",
       "      <td>27.027250</td>\n",
       "      <td>27.608625</td>\n",
       "    </tr>\n",
       "    <tr>\n",
       "      <th>Bangalore</th>\n",
       "      <td>25.337917</td>\n",
       "      <td>25.528167</td>\n",
       "      <td>25.755333</td>\n",
       "      <td>25.924750</td>\n",
       "      <td>25.252083</td>\n",
       "      <td>25.476500</td>\n",
       "      <td>25.418250</td>\n",
       "      <td>25.464333</td>\n",
       "      <td>25.352583</td>\n",
       "      <td>25.725750</td>\n",
       "      <td>25.705250</td>\n",
       "      <td>25.362083</td>\n",
       "      <td>26.042333</td>\n",
       "      <td>26.610500</td>\n",
       "    </tr>\n",
       "    <tr>\n",
       "      <th>Bombay</th>\n",
       "      <td>27.203667</td>\n",
       "      <td>27.243667</td>\n",
       "      <td>27.628667</td>\n",
       "      <td>27.578417</td>\n",
       "      <td>27.318750</td>\n",
       "      <td>27.035750</td>\n",
       "      <td>27.381500</td>\n",
       "      <td>27.634667</td>\n",
       "      <td>27.177750</td>\n",
       "      <td>27.844500</td>\n",
       "      <td>27.765417</td>\n",
       "      <td>27.384917</td>\n",
       "      <td>27.192500</td>\n",
       "      <td>26.713000</td>\n",
       "    </tr>\n",
       "    <tr>\n",
       "      <th>Calcutta</th>\n",
       "      <td>26.491333</td>\n",
       "      <td>26.515167</td>\n",
       "      <td>26.703917</td>\n",
       "      <td>26.561333</td>\n",
       "      <td>26.634333</td>\n",
       "      <td>26.729167</td>\n",
       "      <td>26.986250</td>\n",
       "      <td>26.584583</td>\n",
       "      <td>26.522333</td>\n",
       "      <td>27.153250</td>\n",
       "      <td>27.288833</td>\n",
       "      <td>26.406917</td>\n",
       "      <td>26.935083</td>\n",
       "      <td>27.369250</td>\n",
       "    </tr>\n",
       "    <tr>\n",
       "      <th>Delhi</th>\n",
       "      <td>26.048333</td>\n",
       "      <td>25.862917</td>\n",
       "      <td>26.634333</td>\n",
       "      <td>25.721083</td>\n",
       "      <td>26.239917</td>\n",
       "      <td>25.716083</td>\n",
       "      <td>26.365917</td>\n",
       "      <td>26.145667</td>\n",
       "      <td>25.675000</td>\n",
       "      <td>26.554250</td>\n",
       "      <td>26.520250</td>\n",
       "      <td>25.629500</td>\n",
       "      <td>25.889417</td>\n",
       "      <td>26.709250</td>\n",
       "    </tr>\n",
       "    <tr>\n",
       "      <th>Hyderabad</th>\n",
       "      <td>27.231833</td>\n",
       "      <td>27.555167</td>\n",
       "      <td>27.665167</td>\n",
       "      <td>27.844583</td>\n",
       "      <td>27.228500</td>\n",
       "      <td>27.488833</td>\n",
       "      <td>27.471000</td>\n",
       "      <td>27.545333</td>\n",
       "      <td>27.446667</td>\n",
       "      <td>28.026500</td>\n",
       "      <td>27.693417</td>\n",
       "      <td>27.408833</td>\n",
       "      <td>28.018583</td>\n",
       "      <td>28.851250</td>\n",
       "    </tr>\n",
       "    <tr>\n",
       "      <th>Jaipur</th>\n",
       "      <td>26.430250</td>\n",
       "      <td>26.023000</td>\n",
       "      <td>27.031667</td>\n",
       "      <td>26.027417</td>\n",
       "      <td>26.642167</td>\n",
       "      <td>25.772250</td>\n",
       "      <td>26.429833</td>\n",
       "      <td>26.267000</td>\n",
       "      <td>25.877583</td>\n",
       "      <td>26.919500</td>\n",
       "      <td>26.818417</td>\n",
       "      <td>25.916500</td>\n",
       "      <td>25.884500</td>\n",
       "      <td>26.844125</td>\n",
       "    </tr>\n",
       "    <tr>\n",
       "      <th>Kanpur</th>\n",
       "      <td>25.353917</td>\n",
       "      <td>25.326500</td>\n",
       "      <td>26.116833</td>\n",
       "      <td>25.409083</td>\n",
       "      <td>25.586500</td>\n",
       "      <td>25.621500</td>\n",
       "      <td>25.848833</td>\n",
       "      <td>25.436083</td>\n",
       "      <td>25.109750</td>\n",
       "      <td>25.987083</td>\n",
       "      <td>26.021750</td>\n",
       "      <td>25.062083</td>\n",
       "      <td>25.445417</td>\n",
       "      <td>26.121250</td>\n",
       "    </tr>\n",
       "    <tr>\n",
       "      <th>Lakhnau</th>\n",
       "      <td>25.353917</td>\n",
       "      <td>25.326500</td>\n",
       "      <td>26.116833</td>\n",
       "      <td>25.409083</td>\n",
       "      <td>25.586500</td>\n",
       "      <td>25.621500</td>\n",
       "      <td>25.848833</td>\n",
       "      <td>25.436083</td>\n",
       "      <td>25.109750</td>\n",
       "      <td>25.987083</td>\n",
       "      <td>26.021750</td>\n",
       "      <td>25.062083</td>\n",
       "      <td>25.445417</td>\n",
       "      <td>26.121250</td>\n",
       "    </tr>\n",
       "    <tr>\n",
       "      <th>Madras</th>\n",
       "      <td>28.811667</td>\n",
       "      <td>29.162917</td>\n",
       "      <td>29.246500</td>\n",
       "      <td>29.273083</td>\n",
       "      <td>28.810917</td>\n",
       "      <td>29.099417</td>\n",
       "      <td>29.073250</td>\n",
       "      <td>28.970167</td>\n",
       "      <td>29.024083</td>\n",
       "      <td>29.417417</td>\n",
       "      <td>29.047333</td>\n",
       "      <td>29.063167</td>\n",
       "      <td>29.778417</td>\n",
       "      <td>30.411750</td>\n",
       "    </tr>\n",
       "    <tr>\n",
       "      <th>Nagpur</th>\n",
       "      <td>26.181417</td>\n",
       "      <td>26.321667</td>\n",
       "      <td>26.753000</td>\n",
       "      <td>26.503833</td>\n",
       "      <td>26.406333</td>\n",
       "      <td>26.229167</td>\n",
       "      <td>26.374833</td>\n",
       "      <td>26.393667</td>\n",
       "      <td>26.188000</td>\n",
       "      <td>27.138917</td>\n",
       "      <td>26.927000</td>\n",
       "      <td>26.004667</td>\n",
       "      <td>26.327917</td>\n",
       "      <td>27.112375</td>\n",
       "    </tr>\n",
       "    <tr>\n",
       "      <th>New Delhi</th>\n",
       "      <td>26.048333</td>\n",
       "      <td>25.862917</td>\n",
       "      <td>26.634333</td>\n",
       "      <td>25.721083</td>\n",
       "      <td>26.239917</td>\n",
       "      <td>25.716083</td>\n",
       "      <td>26.365917</td>\n",
       "      <td>26.145667</td>\n",
       "      <td>25.675000</td>\n",
       "      <td>26.554250</td>\n",
       "      <td>26.520250</td>\n",
       "      <td>25.629500</td>\n",
       "      <td>25.889417</td>\n",
       "      <td>26.709250</td>\n",
       "    </tr>\n",
       "    <tr>\n",
       "      <th>Pune</th>\n",
       "      <td>25.110917</td>\n",
       "      <td>25.337833</td>\n",
       "      <td>25.583000</td>\n",
       "      <td>25.748417</td>\n",
       "      <td>25.316167</td>\n",
       "      <td>25.085583</td>\n",
       "      <td>25.310167</td>\n",
       "      <td>25.584833</td>\n",
       "      <td>25.230250</td>\n",
       "      <td>25.868250</td>\n",
       "      <td>25.749167</td>\n",
       "      <td>25.161417</td>\n",
       "      <td>25.296833</td>\n",
       "      <td>25.847625</td>\n",
       "    </tr>\n",
       "    <tr>\n",
       "      <th>Surat</th>\n",
       "      <td>27.029000</td>\n",
       "      <td>26.897250</td>\n",
       "      <td>27.347750</td>\n",
       "      <td>27.230917</td>\n",
       "      <td>27.290583</td>\n",
       "      <td>26.724500</td>\n",
       "      <td>27.149417</td>\n",
       "      <td>27.311750</td>\n",
       "      <td>26.828750</td>\n",
       "      <td>27.819833</td>\n",
       "      <td>27.681667</td>\n",
       "      <td>27.016583</td>\n",
       "      <td>26.889250</td>\n",
       "      <td>27.437750</td>\n",
       "    </tr>\n",
       "  </tbody>\n",
       "</table>\n",
       "</div>"
      ],
      "text/plain": [
       "year                       2000       2001       2002       2003       2004  \\\n",
       "country  city                                                                 \n",
       "Egypt    Alexandria   20.744500  21.454583  21.456167  21.221417  21.064167   \n",
       "         Cairo        21.486167  22.330833  22.414083  22.170500  22.081917   \n",
       "         Gizeh        21.486167  22.330833  22.414083  22.170500  22.081917   \n",
       "Ethiopia Addis Abeba  18.241250  18.296417  18.469750  18.320917  18.292750   \n",
       "France   Paris        11.739667  11.371250  11.871333  11.909500  11.338833   \n",
       "Germany  Berlin       10.963667   9.690250  10.264417  10.065750   9.822583   \n",
       "India    Ahmadabad    27.436000  27.198083  27.719083  27.403833  27.628333   \n",
       "         Bangalore    25.337917  25.528167  25.755333  25.924750  25.252083   \n",
       "         Bombay       27.203667  27.243667  27.628667  27.578417  27.318750   \n",
       "         Calcutta     26.491333  26.515167  26.703917  26.561333  26.634333   \n",
       "         Delhi        26.048333  25.862917  26.634333  25.721083  26.239917   \n",
       "         Hyderabad    27.231833  27.555167  27.665167  27.844583  27.228500   \n",
       "         Jaipur       26.430250  26.023000  27.031667  26.027417  26.642167   \n",
       "         Kanpur       25.353917  25.326500  26.116833  25.409083  25.586500   \n",
       "         Lakhnau      25.353917  25.326500  26.116833  25.409083  25.586500   \n",
       "         Madras       28.811667  29.162917  29.246500  29.273083  28.810917   \n",
       "         Nagpur       26.181417  26.321667  26.753000  26.503833  26.406333   \n",
       "         New Delhi    26.048333  25.862917  26.634333  25.721083  26.239917   \n",
       "         Pune         25.110917  25.337833  25.583000  25.748417  25.316167   \n",
       "         Surat        27.029000  26.897250  27.347750  27.230917  27.290583   \n",
       "\n",
       "year                       2005       2006       2007       2008       2009  \\\n",
       "country  city                                                                 \n",
       "Egypt    Alexandria   21.082333  21.148167  21.507750  21.739000  21.670500   \n",
       "         Cairo        22.006500  22.050000  22.361000  22.644500  22.625000   \n",
       "         Gizeh        22.006500  22.050000  22.361000  22.644500  22.625000   \n",
       "Ethiopia Addis Abeba  18.312833  18.427083  18.142583  18.165000  18.765333   \n",
       "France   Paris        11.552917  11.788500  11.750833  11.278250  11.464083   \n",
       "Germany  Berlin        9.919083  10.545333  10.883167  10.657750  10.062500   \n",
       "India    Ahmadabad    26.828083  27.282833  27.511167  27.048500  28.095833   \n",
       "         Bangalore    25.476500  25.418250  25.464333  25.352583  25.725750   \n",
       "         Bombay       27.035750  27.381500  27.634667  27.177750  27.844500   \n",
       "         Calcutta     26.729167  26.986250  26.584583  26.522333  27.153250   \n",
       "         Delhi        25.716083  26.365917  26.145667  25.675000  26.554250   \n",
       "         Hyderabad    27.488833  27.471000  27.545333  27.446667  28.026500   \n",
       "         Jaipur       25.772250  26.429833  26.267000  25.877583  26.919500   \n",
       "         Kanpur       25.621500  25.848833  25.436083  25.109750  25.987083   \n",
       "         Lakhnau      25.621500  25.848833  25.436083  25.109750  25.987083   \n",
       "         Madras       29.099417  29.073250  28.970167  29.024083  29.417417   \n",
       "         Nagpur       26.229167  26.374833  26.393667  26.188000  27.138917   \n",
       "         New Delhi    25.716083  26.365917  26.145667  25.675000  26.554250   \n",
       "         Pune         25.085583  25.310167  25.584833  25.230250  25.868250   \n",
       "         Surat        26.724500  27.149417  27.311750  26.828750  27.819833   \n",
       "\n",
       "year                       2010       2011       2012       2013  \n",
       "country  city                                                     \n",
       "Egypt    Alexandria   22.459583  21.181500  21.552583  21.438500  \n",
       "         Cairo        23.718250  21.986917  22.484250  22.907000  \n",
       "         Gizeh        23.718250  21.986917  22.484250  22.907000  \n",
       "Ethiopia Addis Abeba  18.298250  18.606750  18.448583  19.539000  \n",
       "France   Paris        10.409833  12.325750  11.219917  11.011625  \n",
       "Germany  Berlin        8.606833  10.556417   9.964333  10.121500  \n",
       "India    Ahmadabad    28.017833  27.290417  27.027250  27.608625  \n",
       "         Bangalore    25.705250  25.362083  26.042333  26.610500  \n",
       "         Bombay       27.765417  27.384917  27.192500  26.713000  \n",
       "         Calcutta     27.288833  26.406917  26.935083  27.369250  \n",
       "         Delhi        26.520250  25.629500  25.889417  26.709250  \n",
       "         Hyderabad    27.693417  27.408833  28.018583  28.851250  \n",
       "         Jaipur       26.818417  25.916500  25.884500  26.844125  \n",
       "         Kanpur       26.021750  25.062083  25.445417  26.121250  \n",
       "         Lakhnau      26.021750  25.062083  25.445417  26.121250  \n",
       "         Madras       29.047333  29.063167  29.778417  30.411750  \n",
       "         Nagpur       26.927000  26.004667  26.327917  27.112375  \n",
       "         New Delhi    26.520250  25.629500  25.889417  26.709250  \n",
       "         Pune         25.749167  25.161417  25.296833  25.847625  \n",
       "         Surat        27.681667  27.016583  26.889250  27.437750  "
      ]
     },
     "execution_count": 35,
     "metadata": {},
     "output_type": "execute_result"
    }
   ],
   "source": [
    "(\n",
    "    temp_by_country_city_vs_year\n",
    "    .loc[\"Egypt\": \"India\"]\n",
    ")"
   ]
  },
  {
   "cell_type": "markdown",
   "metadata": {},
   "source": [
    "- Desde `Egypt, Cairo` hasta `India, Delhi`."
   ]
  },
  {
   "cell_type": "code",
   "execution_count": 36,
   "metadata": {},
   "outputs": [
    {
     "data": {
      "text/html": [
       "<div>\n",
       "<style scoped>\n",
       "    .dataframe tbody tr th:only-of-type {\n",
       "        vertical-align: middle;\n",
       "    }\n",
       "\n",
       "    .dataframe tbody tr th {\n",
       "        vertical-align: top;\n",
       "    }\n",
       "\n",
       "    .dataframe thead th {\n",
       "        text-align: right;\n",
       "    }\n",
       "</style>\n",
       "<table border=\"1\" class=\"dataframe\">\n",
       "  <thead>\n",
       "    <tr style=\"text-align: right;\">\n",
       "      <th></th>\n",
       "      <th>year</th>\n",
       "      <th>2000</th>\n",
       "      <th>2001</th>\n",
       "      <th>2002</th>\n",
       "      <th>2003</th>\n",
       "      <th>2004</th>\n",
       "      <th>2005</th>\n",
       "      <th>2006</th>\n",
       "      <th>2007</th>\n",
       "      <th>2008</th>\n",
       "      <th>2009</th>\n",
       "      <th>2010</th>\n",
       "      <th>2011</th>\n",
       "      <th>2012</th>\n",
       "      <th>2013</th>\n",
       "    </tr>\n",
       "    <tr>\n",
       "      <th>country</th>\n",
       "      <th>city</th>\n",
       "      <th></th>\n",
       "      <th></th>\n",
       "      <th></th>\n",
       "      <th></th>\n",
       "      <th></th>\n",
       "      <th></th>\n",
       "      <th></th>\n",
       "      <th></th>\n",
       "      <th></th>\n",
       "      <th></th>\n",
       "      <th></th>\n",
       "      <th></th>\n",
       "      <th></th>\n",
       "      <th></th>\n",
       "    </tr>\n",
       "  </thead>\n",
       "  <tbody>\n",
       "    <tr>\n",
       "      <th rowspan=\"2\" valign=\"top\">Egypt</th>\n",
       "      <th>Cairo</th>\n",
       "      <td>21.486167</td>\n",
       "      <td>22.330833</td>\n",
       "      <td>22.414083</td>\n",
       "      <td>22.170500</td>\n",
       "      <td>22.081917</td>\n",
       "      <td>22.006500</td>\n",
       "      <td>22.050000</td>\n",
       "      <td>22.361000</td>\n",
       "      <td>22.644500</td>\n",
       "      <td>22.625000</td>\n",
       "      <td>23.718250</td>\n",
       "      <td>21.986917</td>\n",
       "      <td>22.484250</td>\n",
       "      <td>22.907000</td>\n",
       "    </tr>\n",
       "    <tr>\n",
       "      <th>Gizeh</th>\n",
       "      <td>21.486167</td>\n",
       "      <td>22.330833</td>\n",
       "      <td>22.414083</td>\n",
       "      <td>22.170500</td>\n",
       "      <td>22.081917</td>\n",
       "      <td>22.006500</td>\n",
       "      <td>22.050000</td>\n",
       "      <td>22.361000</td>\n",
       "      <td>22.644500</td>\n",
       "      <td>22.625000</td>\n",
       "      <td>23.718250</td>\n",
       "      <td>21.986917</td>\n",
       "      <td>22.484250</td>\n",
       "      <td>22.907000</td>\n",
       "    </tr>\n",
       "    <tr>\n",
       "      <th>Ethiopia</th>\n",
       "      <th>Addis Abeba</th>\n",
       "      <td>18.241250</td>\n",
       "      <td>18.296417</td>\n",
       "      <td>18.469750</td>\n",
       "      <td>18.320917</td>\n",
       "      <td>18.292750</td>\n",
       "      <td>18.312833</td>\n",
       "      <td>18.427083</td>\n",
       "      <td>18.142583</td>\n",
       "      <td>18.165000</td>\n",
       "      <td>18.765333</td>\n",
       "      <td>18.298250</td>\n",
       "      <td>18.606750</td>\n",
       "      <td>18.448583</td>\n",
       "      <td>19.539000</td>\n",
       "    </tr>\n",
       "    <tr>\n",
       "      <th>France</th>\n",
       "      <th>Paris</th>\n",
       "      <td>11.739667</td>\n",
       "      <td>11.371250</td>\n",
       "      <td>11.871333</td>\n",
       "      <td>11.909500</td>\n",
       "      <td>11.338833</td>\n",
       "      <td>11.552917</td>\n",
       "      <td>11.788500</td>\n",
       "      <td>11.750833</td>\n",
       "      <td>11.278250</td>\n",
       "      <td>11.464083</td>\n",
       "      <td>10.409833</td>\n",
       "      <td>12.325750</td>\n",
       "      <td>11.219917</td>\n",
       "      <td>11.011625</td>\n",
       "    </tr>\n",
       "    <tr>\n",
       "      <th>Germany</th>\n",
       "      <th>Berlin</th>\n",
       "      <td>10.963667</td>\n",
       "      <td>9.690250</td>\n",
       "      <td>10.264417</td>\n",
       "      <td>10.065750</td>\n",
       "      <td>9.822583</td>\n",
       "      <td>9.919083</td>\n",
       "      <td>10.545333</td>\n",
       "      <td>10.883167</td>\n",
       "      <td>10.657750</td>\n",
       "      <td>10.062500</td>\n",
       "      <td>8.606833</td>\n",
       "      <td>10.556417</td>\n",
       "      <td>9.964333</td>\n",
       "      <td>10.121500</td>\n",
       "    </tr>\n",
       "    <tr>\n",
       "      <th rowspan=\"5\" valign=\"top\">India</th>\n",
       "      <th>Ahmadabad</th>\n",
       "      <td>27.436000</td>\n",
       "      <td>27.198083</td>\n",
       "      <td>27.719083</td>\n",
       "      <td>27.403833</td>\n",
       "      <td>27.628333</td>\n",
       "      <td>26.828083</td>\n",
       "      <td>27.282833</td>\n",
       "      <td>27.511167</td>\n",
       "      <td>27.048500</td>\n",
       "      <td>28.095833</td>\n",
       "      <td>28.017833</td>\n",
       "      <td>27.290417</td>\n",
       "      <td>27.027250</td>\n",
       "      <td>27.608625</td>\n",
       "    </tr>\n",
       "    <tr>\n",
       "      <th>Bangalore</th>\n",
       "      <td>25.337917</td>\n",
       "      <td>25.528167</td>\n",
       "      <td>25.755333</td>\n",
       "      <td>25.924750</td>\n",
       "      <td>25.252083</td>\n",
       "      <td>25.476500</td>\n",
       "      <td>25.418250</td>\n",
       "      <td>25.464333</td>\n",
       "      <td>25.352583</td>\n",
       "      <td>25.725750</td>\n",
       "      <td>25.705250</td>\n",
       "      <td>25.362083</td>\n",
       "      <td>26.042333</td>\n",
       "      <td>26.610500</td>\n",
       "    </tr>\n",
       "    <tr>\n",
       "      <th>Bombay</th>\n",
       "      <td>27.203667</td>\n",
       "      <td>27.243667</td>\n",
       "      <td>27.628667</td>\n",
       "      <td>27.578417</td>\n",
       "      <td>27.318750</td>\n",
       "      <td>27.035750</td>\n",
       "      <td>27.381500</td>\n",
       "      <td>27.634667</td>\n",
       "      <td>27.177750</td>\n",
       "      <td>27.844500</td>\n",
       "      <td>27.765417</td>\n",
       "      <td>27.384917</td>\n",
       "      <td>27.192500</td>\n",
       "      <td>26.713000</td>\n",
       "    </tr>\n",
       "    <tr>\n",
       "      <th>Calcutta</th>\n",
       "      <td>26.491333</td>\n",
       "      <td>26.515167</td>\n",
       "      <td>26.703917</td>\n",
       "      <td>26.561333</td>\n",
       "      <td>26.634333</td>\n",
       "      <td>26.729167</td>\n",
       "      <td>26.986250</td>\n",
       "      <td>26.584583</td>\n",
       "      <td>26.522333</td>\n",
       "      <td>27.153250</td>\n",
       "      <td>27.288833</td>\n",
       "      <td>26.406917</td>\n",
       "      <td>26.935083</td>\n",
       "      <td>27.369250</td>\n",
       "    </tr>\n",
       "    <tr>\n",
       "      <th>Delhi</th>\n",
       "      <td>26.048333</td>\n",
       "      <td>25.862917</td>\n",
       "      <td>26.634333</td>\n",
       "      <td>25.721083</td>\n",
       "      <td>26.239917</td>\n",
       "      <td>25.716083</td>\n",
       "      <td>26.365917</td>\n",
       "      <td>26.145667</td>\n",
       "      <td>25.675000</td>\n",
       "      <td>26.554250</td>\n",
       "      <td>26.520250</td>\n",
       "      <td>25.629500</td>\n",
       "      <td>25.889417</td>\n",
       "      <td>26.709250</td>\n",
       "    </tr>\n",
       "  </tbody>\n",
       "</table>\n",
       "</div>"
      ],
      "text/plain": [
       "year                       2000       2001       2002       2003       2004  \\\n",
       "country  city                                                                 \n",
       "Egypt    Cairo        21.486167  22.330833  22.414083  22.170500  22.081917   \n",
       "         Gizeh        21.486167  22.330833  22.414083  22.170500  22.081917   \n",
       "Ethiopia Addis Abeba  18.241250  18.296417  18.469750  18.320917  18.292750   \n",
       "France   Paris        11.739667  11.371250  11.871333  11.909500  11.338833   \n",
       "Germany  Berlin       10.963667   9.690250  10.264417  10.065750   9.822583   \n",
       "India    Ahmadabad    27.436000  27.198083  27.719083  27.403833  27.628333   \n",
       "         Bangalore    25.337917  25.528167  25.755333  25.924750  25.252083   \n",
       "         Bombay       27.203667  27.243667  27.628667  27.578417  27.318750   \n",
       "         Calcutta     26.491333  26.515167  26.703917  26.561333  26.634333   \n",
       "         Delhi        26.048333  25.862917  26.634333  25.721083  26.239917   \n",
       "\n",
       "year                       2005       2006       2007       2008       2009  \\\n",
       "country  city                                                                 \n",
       "Egypt    Cairo        22.006500  22.050000  22.361000  22.644500  22.625000   \n",
       "         Gizeh        22.006500  22.050000  22.361000  22.644500  22.625000   \n",
       "Ethiopia Addis Abeba  18.312833  18.427083  18.142583  18.165000  18.765333   \n",
       "France   Paris        11.552917  11.788500  11.750833  11.278250  11.464083   \n",
       "Germany  Berlin        9.919083  10.545333  10.883167  10.657750  10.062500   \n",
       "India    Ahmadabad    26.828083  27.282833  27.511167  27.048500  28.095833   \n",
       "         Bangalore    25.476500  25.418250  25.464333  25.352583  25.725750   \n",
       "         Bombay       27.035750  27.381500  27.634667  27.177750  27.844500   \n",
       "         Calcutta     26.729167  26.986250  26.584583  26.522333  27.153250   \n",
       "         Delhi        25.716083  26.365917  26.145667  25.675000  26.554250   \n",
       "\n",
       "year                       2010       2011       2012       2013  \n",
       "country  city                                                     \n",
       "Egypt    Cairo        23.718250  21.986917  22.484250  22.907000  \n",
       "         Gizeh        23.718250  21.986917  22.484250  22.907000  \n",
       "Ethiopia Addis Abeba  18.298250  18.606750  18.448583  19.539000  \n",
       "France   Paris        10.409833  12.325750  11.219917  11.011625  \n",
       "Germany  Berlin        8.606833  10.556417   9.964333  10.121500  \n",
       "India    Ahmadabad    28.017833  27.290417  27.027250  27.608625  \n",
       "         Bangalore    25.705250  25.362083  26.042333  26.610500  \n",
       "         Bombay       27.765417  27.384917  27.192500  26.713000  \n",
       "         Calcutta     27.288833  26.406917  26.935083  27.369250  \n",
       "         Delhi        26.520250  25.629500  25.889417  26.709250  "
      ]
     },
     "execution_count": 36,
     "metadata": {},
     "output_type": "execute_result"
    }
   ],
   "source": [
    "(\n",
    "    temp_by_country_city_vs_year\n",
    "    .loc[(\"Egypt\", \"Cairo\"): (\"India\", \"Delhi\")]\n",
    ")"
   ]
  },
  {
   "cell_type": "markdown",
   "metadata": {},
   "source": [
    "- Desde `Egypt, Cairo` hasta `India, Delhi`, y desde el año 2005 hasta 2010."
   ]
  },
  {
   "cell_type": "code",
   "execution_count": 37,
   "metadata": {},
   "outputs": [
    {
     "data": {
      "text/html": [
       "<div>\n",
       "<style scoped>\n",
       "    .dataframe tbody tr th:only-of-type {\n",
       "        vertical-align: middle;\n",
       "    }\n",
       "\n",
       "    .dataframe tbody tr th {\n",
       "        vertical-align: top;\n",
       "    }\n",
       "\n",
       "    .dataframe thead th {\n",
       "        text-align: right;\n",
       "    }\n",
       "</style>\n",
       "<table border=\"1\" class=\"dataframe\">\n",
       "  <thead>\n",
       "    <tr style=\"text-align: right;\">\n",
       "      <th></th>\n",
       "      <th>year</th>\n",
       "      <th>2005</th>\n",
       "      <th>2006</th>\n",
       "      <th>2007</th>\n",
       "      <th>2008</th>\n",
       "      <th>2009</th>\n",
       "      <th>2010</th>\n",
       "    </tr>\n",
       "    <tr>\n",
       "      <th>country</th>\n",
       "      <th>city</th>\n",
       "      <th></th>\n",
       "      <th></th>\n",
       "      <th></th>\n",
       "      <th></th>\n",
       "      <th></th>\n",
       "      <th></th>\n",
       "    </tr>\n",
       "  </thead>\n",
       "  <tbody>\n",
       "    <tr>\n",
       "      <th rowspan=\"2\" valign=\"top\">Egypt</th>\n",
       "      <th>Cairo</th>\n",
       "      <td>22.006500</td>\n",
       "      <td>22.050000</td>\n",
       "      <td>22.361000</td>\n",
       "      <td>22.644500</td>\n",
       "      <td>22.625000</td>\n",
       "      <td>23.718250</td>\n",
       "    </tr>\n",
       "    <tr>\n",
       "      <th>Gizeh</th>\n",
       "      <td>22.006500</td>\n",
       "      <td>22.050000</td>\n",
       "      <td>22.361000</td>\n",
       "      <td>22.644500</td>\n",
       "      <td>22.625000</td>\n",
       "      <td>23.718250</td>\n",
       "    </tr>\n",
       "    <tr>\n",
       "      <th>Ethiopia</th>\n",
       "      <th>Addis Abeba</th>\n",
       "      <td>18.312833</td>\n",
       "      <td>18.427083</td>\n",
       "      <td>18.142583</td>\n",
       "      <td>18.165000</td>\n",
       "      <td>18.765333</td>\n",
       "      <td>18.298250</td>\n",
       "    </tr>\n",
       "    <tr>\n",
       "      <th>France</th>\n",
       "      <th>Paris</th>\n",
       "      <td>11.552917</td>\n",
       "      <td>11.788500</td>\n",
       "      <td>11.750833</td>\n",
       "      <td>11.278250</td>\n",
       "      <td>11.464083</td>\n",
       "      <td>10.409833</td>\n",
       "    </tr>\n",
       "    <tr>\n",
       "      <th>Germany</th>\n",
       "      <th>Berlin</th>\n",
       "      <td>9.919083</td>\n",
       "      <td>10.545333</td>\n",
       "      <td>10.883167</td>\n",
       "      <td>10.657750</td>\n",
       "      <td>10.062500</td>\n",
       "      <td>8.606833</td>\n",
       "    </tr>\n",
       "    <tr>\n",
       "      <th rowspan=\"5\" valign=\"top\">India</th>\n",
       "      <th>Ahmadabad</th>\n",
       "      <td>26.828083</td>\n",
       "      <td>27.282833</td>\n",
       "      <td>27.511167</td>\n",
       "      <td>27.048500</td>\n",
       "      <td>28.095833</td>\n",
       "      <td>28.017833</td>\n",
       "    </tr>\n",
       "    <tr>\n",
       "      <th>Bangalore</th>\n",
       "      <td>25.476500</td>\n",
       "      <td>25.418250</td>\n",
       "      <td>25.464333</td>\n",
       "      <td>25.352583</td>\n",
       "      <td>25.725750</td>\n",
       "      <td>25.705250</td>\n",
       "    </tr>\n",
       "    <tr>\n",
       "      <th>Bombay</th>\n",
       "      <td>27.035750</td>\n",
       "      <td>27.381500</td>\n",
       "      <td>27.634667</td>\n",
       "      <td>27.177750</td>\n",
       "      <td>27.844500</td>\n",
       "      <td>27.765417</td>\n",
       "    </tr>\n",
       "    <tr>\n",
       "      <th>Calcutta</th>\n",
       "      <td>26.729167</td>\n",
       "      <td>26.986250</td>\n",
       "      <td>26.584583</td>\n",
       "      <td>26.522333</td>\n",
       "      <td>27.153250</td>\n",
       "      <td>27.288833</td>\n",
       "    </tr>\n",
       "    <tr>\n",
       "      <th>Delhi</th>\n",
       "      <td>25.716083</td>\n",
       "      <td>26.365917</td>\n",
       "      <td>26.145667</td>\n",
       "      <td>25.675000</td>\n",
       "      <td>26.554250</td>\n",
       "      <td>26.520250</td>\n",
       "    </tr>\n",
       "  </tbody>\n",
       "</table>\n",
       "</div>"
      ],
      "text/plain": [
       "year                       2005       2006       2007       2008       2009  \\\n",
       "country  city                                                                 \n",
       "Egypt    Cairo        22.006500  22.050000  22.361000  22.644500  22.625000   \n",
       "         Gizeh        22.006500  22.050000  22.361000  22.644500  22.625000   \n",
       "Ethiopia Addis Abeba  18.312833  18.427083  18.142583  18.165000  18.765333   \n",
       "France   Paris        11.552917  11.788500  11.750833  11.278250  11.464083   \n",
       "Germany  Berlin        9.919083  10.545333  10.883167  10.657750  10.062500   \n",
       "India    Ahmadabad    26.828083  27.282833  27.511167  27.048500  28.095833   \n",
       "         Bangalore    25.476500  25.418250  25.464333  25.352583  25.725750   \n",
       "         Bombay       27.035750  27.381500  27.634667  27.177750  27.844500   \n",
       "         Calcutta     26.729167  26.986250  26.584583  26.522333  27.153250   \n",
       "         Delhi        25.716083  26.365917  26.145667  25.675000  26.554250   \n",
       "\n",
       "year                       2010  \n",
       "country  city                    \n",
       "Egypt    Cairo        23.718250  \n",
       "         Gizeh        23.718250  \n",
       "Ethiopia Addis Abeba  18.298250  \n",
       "France   Paris        10.409833  \n",
       "Germany  Berlin        8.606833  \n",
       "India    Ahmadabad    28.017833  \n",
       "         Bangalore    25.705250  \n",
       "         Bombay       27.765417  \n",
       "         Calcutta     27.288833  \n",
       "         Delhi        26.520250  "
      ]
     },
     "execution_count": 37,
     "metadata": {},
     "output_type": "execute_result"
    }
   ],
   "source": [
    "(\n",
    "    temp_by_country_city_vs_year\n",
    "    .loc[(\"Egypt\", \"Cairo\"): (\"India\", \"Delhi\"), \"2005\":\"2010\"]\n",
    ")"
   ]
  },
  {
   "cell_type": "markdown",
   "metadata": {},
   "source": [
    "### Cálculos en una tabla dinámica (*pivot table*)\n",
    "\n",
    "Las tablas dinámicas contienen estadísticas resumidas, pero suelen ser solo el primer paso para encontrar información relevante. A menudo, es necesario realizar cálculos adicionales sobre ellas. Una operación común es identificar las filas o columnas donde ocurre el valor más alto o más bajo.\n",
    "\n",
    "Recuerda de 1.1. que puedes obtener un subconjunto de una Serie o DataFrame utilizando una condición lógica dentro de corchetes. Por ejemplo: `serie[serie > valor]`.\n",
    "\n",
    "`pandas` está cargado como `pd` y el DataFrame `temp_by_country_city_vs_year` está disponible. A continuación, se muestra un `.head()` de este DataFrame con solo algunas columnas de años:\n",
    "\n",
    "| country | city | 2000 | 2001 | 2002 | … | 2013 |\n",
    "|---------|------|------|------|------|---|------|\n",
    "| Afghanistan | Kabul | 15.823 | 15.848 | 15.715 | … | 16.206 |\n",
    "| Angola | Luanda | 24.410 | 24.427 | 24.791 | … | 24.554 |\n",
    "| Australia | Melbourne | 14.320 | 14.180 | 14.076 | … | 14.742 |\n",
    "|  | Sydney | 17.567 | 17.854 | 17.734 | … | 18.090 |\n",
    "| Bangladesh | Dhaka | 25.905 | 25.931 | 26.095 | … | 26.587 |\n",
    "\n",
    "**Instrucciones**\n",
    "\n",
    "- Calcula la temperatura media para cada año y asígnala a `mean_temp_by_year`.\n",
    "- Filtra `mean_temp_by_year` para obtener el año con la temperatura media más alta.\n"
   ]
  },
  {
   "cell_type": "code",
   "execution_count": 38,
   "metadata": {},
   "outputs": [
    {
     "name": "stdout",
     "output_type": "stream",
     "text": [
      "year\n",
      "2013    20.312285\n",
      "dtype: float64\n"
     ]
    }
   ],
   "source": [
    "mean_temp_by_year = (\n",
    "    temp_by_country_city_vs_year\n",
    "    .mean(axis=\"index\")\n",
    ")\n",
    "\n",
    "print(\n",
    "    mean_temp_by_year[mean_temp_by_year == mean_temp_by_year.max()]\n",
    ")"
   ]
  },
  {
   "cell_type": "markdown",
   "metadata": {},
   "source": [
    "- Calcula la temperatura media para cada ciudad (a través de las columnas) y asígnala a `mean_temp_by_city`.\n",
    "- Filtra `mean_temp_by_city` para obtener la ciudad con la temperatura media más baja."
   ]
  },
  {
   "cell_type": "code",
   "execution_count": 39,
   "metadata": {},
   "outputs": [
    {
     "name": "stdout",
     "output_type": "stream",
     "text": [
      "country  city  \n",
      "China    Harbin    4.876551\n",
      "dtype: float64\n"
     ]
    }
   ],
   "source": [
    "mean_temp_by_city = (\n",
    "    temp_by_country_city_vs_year\n",
    "    .mean(axis=\"columns\")\n",
    ")\n",
    "\n",
    "print(\n",
    "    mean_temp_by_city[mean_temp_by_city == mean_temp_by_city.min()]\n",
    ")"
   ]
  }
 ],
 "metadata": {
  "kernelspec": {
   "display_name": "mcd-projectsI2025a",
   "language": "python",
   "name": "python3"
  },
  "language_info": {
   "codemirror_mode": {
    "name": "ipython",
    "version": 3
   },
   "file_extension": ".py",
   "mimetype": "text/x-python",
   "name": "python",
   "nbconvert_exporter": "python",
   "pygments_lexer": "ipython3",
   "version": "3.13.0"
  }
 },
 "nbformat": 4,
 "nbformat_minor": 2
}
