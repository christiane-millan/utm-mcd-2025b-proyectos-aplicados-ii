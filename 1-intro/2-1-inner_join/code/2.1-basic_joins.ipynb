{
 "cells": [
  {
   "cell_type": "markdown",
   "metadata": {},
   "source": [
    "# Combinaciones básicas\n",
    "\n",
    "## Inner join"
   ]
  },
  {
   "cell_type": "markdown",
   "metadata": {},
   "source": [
    "### Datasets\n",
    "\n",
    "Chicago proporciona una lista de propietarios de taxis y vehículos autorizados para operar dentro de la ciudad, por razones de seguridad pública. Tu objetivo es unir dos tablas. Una tabla se llama `taxi_owners`, con información sobre los propietarios de compañías de taxis, y la otra se llama `taxi_veh`, con información sobre cada vehículo de taxi. Ambas tablas, `taxi_owners` y `taxi_veh`, han sido cargadas para que las explores."
   ]
  },
  {
   "cell_type": "code",
   "execution_count": null,
   "metadata": {},
   "outputs": [],
   "source": [
    "import pandas as pd\n",
    "\n",
    "taxi_owners = pd.read_pickle(\"../../../datasets/taxi_owners.p\")\n",
    "taxi_owners.head()"
   ]
  },
  {
   "cell_type": "code",
   "execution_count": null,
   "metadata": {},
   "outputs": [],
   "source": []
  },
  {
   "cell_type": "markdown",
   "metadata": {},
   "source": [
    "Como segundo conjunto de datos, se utiliza un conjunto de datos de información referente a los taxis."
   ]
  },
  {
   "cell_type": "code",
   "execution_count": null,
   "metadata": {},
   "outputs": [],
   "source": [
    "taxi_veh = pd.read_pickle(\"../../../datasets/taxi_vehicles.p\")\n",
    "taxi_veh.head()"
   ]
  },
  {
   "cell_type": "code",
   "execution_count": null,
   "metadata": {},
   "outputs": [],
   "source": []
  },
  {
   "cell_type": "markdown",
   "metadata": {},
   "source": [
    "### `inner join`\n",
    "\n",
    "Se te ha asignado la tarea de averiguar cuáles son los tipos de combustible más populares utilizados en los taxis de Chicago. \n",
    "\n",
    "Para completar el análisis, necesitas unir las tablas `taxi_owners` y `taxi_veh` utilizando la columna `vid`. Luego puedes usar la tabla combinada junto con el método `.value_counts()` para encontrar el `fuel_type` más común."
   ]
  },
  {
   "cell_type": "code",
   "execution_count": null,
   "metadata": {},
   "outputs": [],
   "source": []
  },
  {
   "cell_type": "markdown",
   "metadata": {},
   "source": [
    "## Relaciones uno a muchos\n",
    "\n",
    "### Unión uno a muchos\n",
    "\n",
    "Un negocio puede tener uno o varios propietarios. En este ejercicio, continuarás adquiriendo experiencia con uniones uno a muchos al unir una tabla de propietarios de negocios, llamada `biz_owners`, con la tabla `licenses`. Recuerda que con una relación uno a muchos, una fila en la tabla de la izquierda puede repetirse si está relacionada con múltiples filas en la tabla de la derecha. En esta lección, explorarás esto más a fondo al descubrir cuál es el título de propietario de negocio más común (por ejemplo: secretario, CEO o vicepresidente).\n",
    "\n",
    "\n",
    "**Instrucciones**\n",
    "\n",
    "- Comenzando con la tabla `licenses` como izquierda, únela con la tabla `biz_owners` en la columna `account`, y guarda el resultado en una variable llamada `licenses_owners`.\n",
    "- Agrupa `licenses_owners` por `title` y cuenta el número de cuentas para cada título. Guarda el resultado como `counted_df`.\n",
    "- Ordena `counted_df` por el número de **cuentas** en **orden descendente**, y guarda esto como una variable llamada `sorted_df`.\n",
    "- Usa el método `.head()` para imprimir las primeras filas de `sorted_df`."
   ]
  },
  {
   "cell_type": "code",
   "execution_count": null,
   "metadata": {},
   "outputs": [],
   "source": [
    "licenses = pd.read_pickle(\"datasets/licenses.p\")\n",
    "biz_owners = pd.read_pickle(\"datasets/business_owners.p\")"
   ]
  },
  {
   "cell_type": "code",
   "execution_count": null,
   "metadata": {},
   "outputs": [
    {
     "data": {
      "text/plain": [
       "'\\nHola,\\n\\ncomo estas?\\n\\nEspero te en\\n'"
      ]
     },
     "execution_count": 5,
     "metadata": {},
     "output_type": "execute_result"
    }
   ],
   "source": []
  },
  {
   "cell_type": "markdown",
   "metadata": {},
   "source": [
    "## Uniendo múltiples DataFrames\n",
    "\n",
    "### Total de pasajeros en un mes\n",
    "\n",
    "Tu objetivo es encontrar el número total de viajes proporcionados a los pasajeros que pasaron por la estación Wilson (`station_name == 'Wilson'`) al utilizar el sistema de transporte público de Chicago en días laborables (`day_type == 'Weekday'`) durante el mes de julio (`month == 7`). Afortunadamente, Chicago proporciona estos datos detallados, aunque están distribuidos en tres tablas diferentes. Trabajarás en unir estas tablas para poder responder la pregunta. Estos datos son distintos de los datos relacionados con negocios que has visto hasta ahora, pero toda la información que necesitas para responder está disponible.\n",
    "\n",
    "Los DataFrames `cal`, `ridership` y `stations` ya están cargados para ti. La relación entre las tablas puede verse en el siguiente diagrama.\n",
    "\n",
    "<img src=\"cta_L_diagram.png\" alt=\"img\" width=\"500\"/>\n",
    "\n",
    "**Instrucciones 1/3**\n",
    "\n",
    "- Une las tablas `ridership` y `cal`, comenzando con la tabla `ridership` como izquierda, y guarda el resultado en la variable `ridership_cal`. Si tu código tarda demasiado en ejecutarse, es posible que las condiciones de unión sean incorrectas."
   ]
  },
  {
   "cell_type": "code",
   "execution_count": null,
   "metadata": {},
   "outputs": [],
   "source": [
    "cal = pd.read_pickle(\"datasets/cta_calendar.p\")\n",
    "ridership = pd.read_pickle(\"datasets/cta_ridership.p\")\n",
    "stations = pd.read_pickle(\"datasets/stations.p\")"
   ]
  },
  {
   "cell_type": "markdown",
   "metadata": {},
   "source": [
    "**Instrucciones 2/3**\n",
    "\n",
    "- Extiende la unión anterior a tres tablas uniendo también la tabla `stations`."
   ]
  },
  {
   "cell_type": "code",
   "execution_count": null,
   "metadata": {},
   "outputs": [],
   "source": []
  },
  {
   "cell_type": "markdown",
   "metadata": {},
   "source": [
    "**Instrucciones 3/3**\n",
    "\n",
    "- Crea una variable llamada `filter_criteria` para seleccionar las filas apropiadas de la tabla unida, de modo que puedas sumar la columna `rides`."
   ]
  },
  {
   "cell_type": "code",
   "execution_count": null,
   "metadata": {},
   "outputs": [],
   "source": []
  },
  {
   "cell_type": "markdown",
   "metadata": {},
   "source": [
    "### Unión de tres tablas\n",
    "\n",
    "Para reforzar el concepto de unir tres DataFrames, practica con otro ejercicio. Una extensión razonable de nuestro análisis de datos de negocios en Chicago incluiría observar información demográfica sobre los vecindarios donde se encuentran los negocios. Se te ha proporcionado una tabla con el ingreso medio por código postal. Unirás las tablas `licenses` y `wards` con esta nueva tabla de ingreso por código postal llamada `zip_demo`.\n",
    "\n",
    "Los DataFrames `licenses`, `wards` y `zip_demo` ya han sido cargados para ti.\n",
    "\n",
    "**Instrucciones**\n",
    "\n",
    "- Comenzando con la tabla `licenses`, únela con la tabla `zip_demo` usando la columna `zip`. Luego une la tabla resultante con la tabla `wards` usando la columna `ward`. Guarda el resultado."
   ]
  },
  {
   "cell_type": "code",
   "execution_count": null,
   "metadata": {},
   "outputs": [],
   "source": []
  },
  {
   "cell_type": "markdown",
   "metadata": {},
   "source": [
    "### **Unión uno a muchos con múltiples tablas**\n",
    "\n",
    "En este ejercicio, asume que estás buscando iniciar un negocio en la ciudad de Chicago. Tu idea perfecta es comenzar una empresa que use cabras para cortar el césped de otros negocios. Sin embargo, debes elegir una ubicación en la ciudad para establecer tu granja de cabras. Necesitas un lugar con mucho espacio y relativamente pocos negocios y personas alrededor para evitar quejas sobre el olor. Deberás unir tres tablas para ayudarte a elegir tu ubicación. La tabla `land_use` tiene información sobre el porcentaje de terreno vacío por distrito (`ward`) de la ciudad. La tabla `census` contiene la población por distrito, y la tabla `licenses` lista los negocios por distrito.\n",
    "\n",
    "Las tablas `land_use`, `census` y `licenses` ya han sido cargadas para ti.\n",
    "\n",
    "**Instrucciones 1/3**\n",
    "\n",
    "- Une `land_use` y `census` usando la columna `ward`. Luego une el resultado con `licenses` también usando la columna `ward`, utilizando el sufijo `_cen` para la tabla izquierda y `_lic` para la tabla derecha. Guarda el resultado en la variable `land_cen_lic`."
   ]
  },
  {
   "cell_type": "code",
   "execution_count": null,
   "metadata": {},
   "outputs": [],
   "source": []
  },
  {
   "cell_type": "markdown",
   "metadata": {},
   "source": [
    "**Instrucciones 2/3**\n",
    "\n",
    "- Agrupa `land_cen_lic` por `ward`, `pop_2010` (la población en 2010) y `vacant`, luego cuenta el número de `accounts`. Guarda los resultados en `pop_vac_lic`."
   ]
  },
  {
   "cell_type": "code",
   "execution_count": null,
   "metadata": {},
   "outputs": [],
   "source": []
  },
  {
   "cell_type": "markdown",
   "metadata": {},
   "source": [
    "**Instrucciones 3/3**\n",
    "\n",
    "- Ordena `pop_vac_lic` por `vacant` en orden descendente, `account` en orden ascendente y `pop_2010` en orden ascendente, respectivamente. Guarda el resultado como `sorted_pop_vac_lic`."
   ]
  },
  {
   "cell_type": "code",
   "execution_count": null,
   "metadata": {},
   "outputs": [],
   "source": []
  }
 ],
 "metadata": {
  "kernelspec": {
   "display_name": "mcd-projectsI2025a",
   "language": "python",
   "name": "python3"
  },
  "language_info": {
   "codemirror_mode": {
    "name": "ipython",
    "version": 3
   },
   "file_extension": ".py",
   "mimetype": "text/x-python",
   "name": "python",
   "nbconvert_exporter": "python",
   "pygments_lexer": "ipython3",
   "version": "3.13.0"
  }
 },
 "nbformat": 4,
 "nbformat_minor": 2
}
